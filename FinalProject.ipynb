{
 "cells": [
  {
   "cell_type": "markdown",
   "metadata": {},
   "source": [
    "# Big Data Final Project\n",
    "\n",
    "#### _Team Members: Pooja Sastry (819907953), Sindhuri Punyamurthula (820923656)_"
   ]
  },
  {
   "cell_type": "markdown",
   "metadata": {},
   "source": [
    "Nice write up. How many times did you run the jobs when you timed them? Were they cold starts or not?\n",
    "98/100"
   ]
  },
  {
   "cell_type": "markdown",
   "metadata": {},
   "source": [
    "### Goal: \n",
    "To predict employee attrition in a company using their real-time dataset. This is a binary classification problem of predicting if an employee will leave a company or not, based on several attributes. \n",
    "### Dataset:\n",
    "The human resource data from the Kaggle repository has been used for learning the models: https://www.kaggle.com/pavansubhasht/ibm-hr-analytics-attrition-dataset/data. This dataset has 34 features and a target label 'Attrition'. Some of the important features are: Employee_Age, Years_Of_Service, Gender,Distance_From_Home, Job_Level, Current_Salary, Performance_Rating,BusinessTravel,etc. We renamed the dataset to _AttritionData.csv_ and it is located in the same folder as our project notebook.\n",
    "### Kernel:\n",
    "This notebook runs on _Apache Toree - Scala_ kernel."
   ]
  },
  {
   "cell_type": "markdown",
   "metadata": {},
   "source": [
    "## _Code:_"
   ]
  },
  {
   "cell_type": "markdown",
   "metadata": {},
   "source": [
    "### Import Libraries"
   ]
  },
  {
   "cell_type": "code",
   "execution_count": 1,
   "metadata": {
    "collapsed": true
   },
   "outputs": [],
   "source": [
    "import java.io._\n",
    "import scala.io.Source\n",
    "import scala.collection.immutable\n",
    "import org.apache.spark.sql.types.{StructField, StructType, StringType, DoubleType, IntegerType}\n",
    "import org.apache.spark.ml.feature.RFormula\n",
    "import org.apache.spark.sql.functions._\n",
    "import org.apache.spark.sql.SQLContext\n",
    "import org.apache.spark.{SparkConf, SparkContext}"
   ]
  },
  {
   "cell_type": "markdown",
   "metadata": {},
   "source": [
    "## 1. Load the Data"
   ]
  },
  {
   "cell_type": "markdown",
   "metadata": {},
   "source": [
    "### 1.1. Define the schema "
   ]
  },
  {
   "cell_type": "code",
   "execution_count": 2,
   "metadata": {
    "collapsed": true
   },
   "outputs": [],
   "source": [
    "val emp_schema = new StructType(Array(\n",
    "    new StructField(\"Age\", IntegerType, true),\n",
    "    new StructField(\"Attrition\", StringType, true),\n",
    "    new StructField(\"BusinessTravel\", StringType, true),\n",
    "    new StructField(\"DailyRate\", IntegerType, true),\n",
    "    new StructField(\"Department\", StringType, true),\n",
    "    new StructField(\"DistanceFromHome\", IntegerType, true),\n",
    "    new StructField(\"Education\", IntegerType, true),\n",
    "    new StructField(\"EducationField\", StringType, true),\n",
    "    new StructField(\"EmployeeCount\", IntegerType, true),\n",
    "    new StructField(\"EmployeeNumber\", IntegerType, true),\n",
    "    new StructField(\"EnvironmentSatisfaction\", IntegerType, true),\n",
    "    new StructField(\"Gender\", StringType, true),\n",
    "    new StructField(\"HourlyRate\", IntegerType, true),\n",
    "    new StructField(\"JobInvolvement\", IntegerType, true),\n",
    "    new StructField(\"JobLevel\", IntegerType, true),\n",
    "    new StructField(\"JobRole\", StringType, true),\n",
    "    new StructField(\"JobSatisfaction\", IntegerType, true),\n",
    "    new StructField(\"MaritalStatus\", StringType, true),\n",
    "    new StructField(\"MonthlyIncome\", IntegerType, true),\n",
    "    new StructField(\"MonthlyRate\", IntegerType, true),\n",
    "    new StructField(\"NumCompaniesWorked\", IntegerType, true),\n",
    "    new StructField(\"Over18\", StringType, true),\n",
    "    new StructField(\"OverTime\", StringType, true),\n",
    "    new StructField(\"PercentSalaryHike\", IntegerType, true),    \n",
    "    new StructField(\"PerformanceRating\", IntegerType, true),\n",
    "    new StructField(\"RelationshipSatisfaction\", IntegerType, true),\n",
    "    new StructField(\"StandardHours\", IntegerType, true),\n",
    "    new StructField(\"StockOptionLevel\", IntegerType, true),\n",
    "    new StructField(\"TotalWorkingYears\", IntegerType, true),\n",
    "    new StructField(\"TrainingTimesLastYear\", IntegerType, true),\n",
    "    new StructField(\"WorkLifeBalance\", IntegerType, true),\n",
    "    new StructField(\"YearsAtCompany\", IntegerType, true),\n",
    "    new StructField(\"YearsInCurrentRole\", IntegerType, true),\n",
    "    new StructField(\"YearsSinceLastPromotion\", IntegerType, true),\n",
    "    new StructField(\"YearsWithCurrManager\", IntegerType, true)))"
   ]
  },
  {
   "cell_type": "code",
   "execution_count": 3,
   "metadata": {
    "collapsed": true
   },
   "outputs": [],
   "source": [
    "val attritionDf = spark.read.format(\"csv\").option(\"header\", true).schema(emp_schema).load(\"./AttritionData.csv\")"
   ]
  },
  {
   "cell_type": "code",
   "execution_count": 4,
   "metadata": {},
   "outputs": [
    {
     "name": "stdout",
     "output_type": "stream",
     "text": [
      "+---+---------+-----------------+---------+--------------------+----------------+---------+--------------+-------------+--------------+-----------------------+------+----------+--------------+--------+--------------------+---------------+-------------+-------------+-----------+------------------+------+--------+-----------------+-----------------+------------------------+-------------+----------------+-----------------+---------------------+---------------+--------------+------------------+-----------------------+--------------------+\n",
      "|Age|Attrition|   BusinessTravel|DailyRate|          Department|DistanceFromHome|Education|EducationField|EmployeeCount|EmployeeNumber|EnvironmentSatisfaction|Gender|HourlyRate|JobInvolvement|JobLevel|             JobRole|JobSatisfaction|MaritalStatus|MonthlyIncome|MonthlyRate|NumCompaniesWorked|Over18|OverTime|PercentSalaryHike|PerformanceRating|RelationshipSatisfaction|StandardHours|StockOptionLevel|TotalWorkingYears|TrainingTimesLastYear|WorkLifeBalance|YearsAtCompany|YearsInCurrentRole|YearsSinceLastPromotion|YearsWithCurrManager|\n",
      "+---+---------+-----------------+---------+--------------------+----------------+---------+--------------+-------------+--------------+-----------------------+------+----------+--------------+--------+--------------------+---------------+-------------+-------------+-----------+------------------+------+--------+-----------------+-----------------+------------------------+-------------+----------------+-----------------+---------------------+---------------+--------------+------------------+-----------------------+--------------------+\n",
      "| 41|      Yes|    Travel_Rarely|     1102|               Sales|               1|        2| Life Sciences|            1|             1|                      2|Female|        94|             3|       2|     Sales Executive|              4|       Single|         5993|      19479|                 8|     Y|     Yes|               11|                3|                       1|           80|               0|                8|                    0|              1|             6|                 4|                      0|                   5|\n",
      "| 49|       No|Travel_Frequently|      279|Research & Develo...|               8|        1| Life Sciences|            1|             2|                      3|  Male|        61|             2|       2|  Research Scientist|              2|      Married|         5130|      24907|                 1|     Y|      No|               23|                4|                       4|           80|               1|               10|                    3|              3|            10|                 7|                      1|                   7|\n",
      "| 37|      Yes|    Travel_Rarely|     1373|Research & Develo...|               2|        2|         Other|            1|             4|                      4|  Male|        92|             2|       1|Laboratory Techni...|              3|       Single|         2090|       2396|                 6|     Y|     Yes|               15|                3|                       2|           80|               0|                7|                    3|              3|             0|                 0|                      0|                   0|\n",
      "| 33|       No|Travel_Frequently|     1392|Research & Develo...|               3|        4| Life Sciences|            1|             5|                      4|Female|        56|             3|       1|  Research Scientist|              3|      Married|         2909|      23159|                 1|     Y|     Yes|               11|                3|                       3|           80|               0|                8|                    3|              3|             8|                 7|                      3|                   0|\n",
      "| 27|       No|    Travel_Rarely|      591|Research & Develo...|               2|        1|       Medical|            1|             7|                      1|  Male|        40|             3|       1|Laboratory Techni...|              2|      Married|         3468|      16632|                 9|     Y|      No|               12|                3|                       4|           80|               1|                6|                    3|              3|             2|                 2|                      2|                   2|\n",
      "| 32|       No|Travel_Frequently|     1005|Research & Develo...|               2|        2| Life Sciences|            1|             8|                      4|  Male|        79|             3|       1|Laboratory Techni...|              4|       Single|         3068|      11864|                 0|     Y|      No|               13|                3|                       3|           80|               0|                8|                    2|              2|             7|                 7|                      3|                   6|\n",
      "| 59|       No|    Travel_Rarely|     1324|Research & Develo...|               3|        3|       Medical|            1|            10|                      3|Female|        81|             4|       1|Laboratory Techni...|              1|      Married|         2670|       9964|                 4|     Y|     Yes|               20|                4|                       1|           80|               3|               12|                    3|              2|             1|                 0|                      0|                   0|\n",
      "| 30|       No|    Travel_Rarely|     1358|Research & Develo...|              24|        1| Life Sciences|            1|            11|                      4|  Male|        67|             3|       1|Laboratory Techni...|              3|     Divorced|         2693|      13335|                 1|     Y|      No|               22|                4|                       2|           80|               1|                1|                    2|              3|             1|                 0|                      0|                   0|\n",
      "| 38|       No|Travel_Frequently|      216|Research & Develo...|              23|        3| Life Sciences|            1|            12|                      4|  Male|        44|             2|       3|Manufacturing Dir...|              3|       Single|         9526|       8787|                 0|     Y|      No|               21|                4|                       2|           80|               0|               10|                    2|              3|             9|                 7|                      1|                   8|\n",
      "| 36|       No|    Travel_Rarely|     1299|Research & Develo...|              27|        3|       Medical|            1|            13|                      3|  Male|        94|             3|       2|Healthcare Repres...|              3|      Married|         5237|      16577|                 6|     Y|      No|               13|                3|                       2|           80|               2|               17|                    3|              2|             7|                 7|                      7|                   7|\n",
      "| 35|       No|    Travel_Rarely|      809|Research & Develo...|              16|        3|       Medical|            1|            14|                      1|  Male|        84|             4|       1|Laboratory Techni...|              2|      Married|         2426|      16479|                 0|     Y|      No|               13|                3|                       3|           80|               1|                6|                    5|              3|             5|                 4|                      0|                   3|\n",
      "| 29|       No|    Travel_Rarely|      153|Research & Develo...|              15|        2| Life Sciences|            1|            15|                      4|Female|        49|             2|       2|Laboratory Techni...|              3|       Single|         4193|      12682|                 0|     Y|     Yes|               12|                3|                       4|           80|               0|               10|                    3|              3|             9|                 5|                      0|                   8|\n",
      "| 31|       No|    Travel_Rarely|      670|Research & Develo...|              26|        1| Life Sciences|            1|            16|                      1|  Male|        31|             3|       1|  Research Scientist|              3|     Divorced|         2911|      15170|                 1|     Y|      No|               17|                3|                       4|           80|               1|                5|                    1|              2|             5|                 2|                      4|                   3|\n",
      "| 34|       No|    Travel_Rarely|     1346|Research & Develo...|              19|        2|       Medical|            1|            18|                      2|  Male|        93|             3|       1|Laboratory Techni...|              4|     Divorced|         2661|       8758|                 0|     Y|      No|               11|                3|                       3|           80|               1|                3|                    2|              3|             2|                 2|                      1|                   2|\n",
      "| 28|      Yes|    Travel_Rarely|      103|Research & Develo...|              24|        3| Life Sciences|            1|            19|                      3|  Male|        50|             2|       1|Laboratory Techni...|              3|       Single|         2028|      12947|                 5|     Y|     Yes|               14|                3|                       2|           80|               0|                6|                    4|              3|             4|                 2|                      0|                   3|\n",
      "| 29|       No|    Travel_Rarely|     1389|Research & Develo...|              21|        4| Life Sciences|            1|            20|                      2|Female|        51|             4|       3|Manufacturing Dir...|              1|     Divorced|         9980|      10195|                 1|     Y|      No|               11|                3|                       3|           80|               1|               10|                    1|              3|            10|                 9|                      8|                   8|\n",
      "| 32|       No|    Travel_Rarely|      334|Research & Develo...|               5|        2| Life Sciences|            1|            21|                      1|  Male|        80|             4|       1|  Research Scientist|              2|     Divorced|         3298|      15053|                 0|     Y|     Yes|               12|                3|                       4|           80|               2|                7|                    5|              2|             6|                 2|                      0|                   5|\n",
      "| 22|       No|       Non-Travel|     1123|Research & Develo...|              16|        2|       Medical|            1|            22|                      4|  Male|        96|             4|       1|Laboratory Techni...|              4|     Divorced|         2935|       7324|                 1|     Y|     Yes|               13|                3|                       2|           80|               2|                1|                    2|              2|             1|                 0|                      0|                   0|\n",
      "| 53|       No|    Travel_Rarely|     1219|               Sales|               2|        4| Life Sciences|            1|            23|                      1|Female|        78|             2|       4|             Manager|              4|      Married|        15427|      22021|                 2|     Y|      No|               16|                3|                       3|           80|               0|               31|                    3|              3|            25|                 8|                      3|                   7|\n",
      "| 38|       No|    Travel_Rarely|      371|Research & Develo...|               2|        3| Life Sciences|            1|            24|                      4|  Male|        45|             3|       1|  Research Scientist|              4|       Single|         3944|       4306|                 5|     Y|     Yes|               11|                3|                       3|           80|               0|                6|                    3|              3|             3|                 2|                      1|                   2|\n",
      "+---+---------+-----------------+---------+--------------------+----------------+---------+--------------+-------------+--------------+-----------------------+------+----------+--------------+--------+--------------------+---------------+-------------+-------------+-----------+------------------+------+--------+-----------------+-----------------+------------------------+-------------+----------------+-----------------+---------------------+---------------+--------------+------------------+-----------------------+--------------------+\n",
      "only showing top 20 rows\n",
      "\n"
     ]
    }
   ],
   "source": [
    "attritionDf.na.drop()\n",
    "attritionDf.show"
   ]
  },
  {
   "cell_type": "code",
   "execution_count": 5,
   "metadata": {
    "scrolled": true
   },
   "outputs": [
    {
     "name": "stdout",
     "output_type": "stream",
     "text": [
      "root\n",
      " |-- Age: integer (nullable = true)\n",
      " |-- Attrition: string (nullable = true)\n",
      " |-- BusinessTravel: string (nullable = true)\n",
      " |-- DailyRate: integer (nullable = true)\n",
      " |-- Department: string (nullable = true)\n",
      " |-- DistanceFromHome: integer (nullable = true)\n",
      " |-- Education: integer (nullable = true)\n",
      " |-- EducationField: string (nullable = true)\n",
      " |-- EmployeeCount: integer (nullable = true)\n",
      " |-- EmployeeNumber: integer (nullable = true)\n",
      " |-- EnvironmentSatisfaction: integer (nullable = true)\n",
      " |-- Gender: string (nullable = true)\n",
      " |-- HourlyRate: integer (nullable = true)\n",
      " |-- JobInvolvement: integer (nullable = true)\n",
      " |-- JobLevel: integer (nullable = true)\n",
      " |-- JobRole: string (nullable = true)\n",
      " |-- JobSatisfaction: integer (nullable = true)\n",
      " |-- MaritalStatus: string (nullable = true)\n",
      " |-- MonthlyIncome: integer (nullable = true)\n",
      " |-- MonthlyRate: integer (nullable = true)\n",
      " |-- NumCompaniesWorked: integer (nullable = true)\n",
      " |-- Over18: string (nullable = true)\n",
      " |-- OverTime: string (nullable = true)\n",
      " |-- PercentSalaryHike: integer (nullable = true)\n",
      " |-- PerformanceRating: integer (nullable = true)\n",
      " |-- RelationshipSatisfaction: integer (nullable = true)\n",
      " |-- StandardHours: integer (nullable = true)\n",
      " |-- StockOptionLevel: integer (nullable = true)\n",
      " |-- TotalWorkingYears: integer (nullable = true)\n",
      " |-- TrainingTimesLastYear: integer (nullable = true)\n",
      " |-- WorkLifeBalance: integer (nullable = true)\n",
      " |-- YearsAtCompany: integer (nullable = true)\n",
      " |-- YearsInCurrentRole: integer (nullable = true)\n",
      " |-- YearsSinceLastPromotion: integer (nullable = true)\n",
      " |-- YearsWithCurrManager: integer (nullable = true)\n",
      "\n"
     ]
    }
   ],
   "source": [
    "attritionDf.printSchema()"
   ]
  },
  {
   "cell_type": "markdown",
   "metadata": {},
   "source": [
    "### 1.2. Extract, Transform and Select features using StringIndexer and VectorAssembler"
   ]
  },
  {
   "cell_type": "code",
   "execution_count": 6,
   "metadata": {
    "collapsed": true
   },
   "outputs": [],
   "source": [
    "import org.apache.spark.ml.feature.StringIndexer\n",
    "import org.apache.spark.ml.feature.VectorAssembler"
   ]
  },
  {
   "cell_type": "code",
   "execution_count": 7,
   "metadata": {
    "collapsed": true
   },
   "outputs": [],
   "source": [
    "val Attrition_LabelIndexer = new StringIndexer().setInputCol(\"Attrition\").setOutputCol(\"label\")\n",
    "val BusinessTravel_LabelIndexer = new StringIndexer().setInputCol(\"BusinessTravel\").setOutputCol(\"BusinessTravelIndexed\")\n",
    "val Department_LabelIndexer = new StringIndexer().setInputCol(\"Department\").setOutputCol(\"DepartmentIndexed\")\n",
    "val EducationField_LabelIndexer = new StringIndexer().setInputCol(\"EducationField\").setOutputCol(\"EducationFieldIndexed\")\n",
    "val Gender_LabelIndexer = new StringIndexer().setInputCol(\"Gender\").setOutputCol(\"GenderIndexed\")\n",
    "val JobRole_LabelIndexer = new StringIndexer().setInputCol(\"JobRole\").setOutputCol(\"JobRoleIndexed\")\n",
    "val MaritalStatus_LabelIndexer = new StringIndexer().setInputCol(\"MaritalStatus\").setOutputCol(\"MaritalStatusIndexed\")\n",
    "val Over18_LabelIndexer = new StringIndexer().setInputCol(\"Over18\").setOutputCol(\"Over18Indexed\")\n",
    "val OverTime_LabelIndexer = new StringIndexer().setInputCol(\"OverTime\").setOutputCol(\"OverTimeIndexed\")"
   ]
  },
  {
   "cell_type": "code",
   "execution_count": 8,
   "metadata": {
    "collapsed": true
   },
   "outputs": [],
   "source": [
    "val Attrition_IndexedDF = Attrition_LabelIndexer.fit(attritionDf).transform(attritionDf)\n",
    "val BusinessTravel_IndexedDF = BusinessTravel_LabelIndexer.fit(Attrition_IndexedDF).transform(Attrition_IndexedDF)\n",
    "val Department_IndexedDF = Department_LabelIndexer.fit(BusinessTravel_IndexedDF).transform(BusinessTravel_IndexedDF)\n",
    "val EducationField_IndexedDF = EducationField_LabelIndexer.fit(Department_IndexedDF).transform(Department_IndexedDF)\n",
    "val Gender_IndexedDF = Gender_LabelIndexer.fit(EducationField_IndexedDF).transform(EducationField_IndexedDF)\n",
    "val JobRole_IndexedDF = JobRole_LabelIndexer.fit(Gender_IndexedDF).transform(Gender_IndexedDF)\n",
    "val MaritalStatus_IndexedDF = MaritalStatus_LabelIndexer.fit(JobRole_IndexedDF).transform(JobRole_IndexedDF)\n",
    "val Over18_IndexedDF = Over18_LabelIndexer.fit(MaritalStatus_IndexedDF).transform(MaritalStatus_IndexedDF)\n",
    "val OverTime_IndexedDF = OverTime_LabelIndexer.fit(Over18_IndexedDF).transform(Over18_IndexedDF)"
   ]
  },
  {
   "cell_type": "code",
   "execution_count": 9,
   "metadata": {},
   "outputs": [
    {
     "name": "stdout",
     "output_type": "stream",
     "text": [
      "+---+---------+-----------------+---------+--------------------+----------------+---------+--------------+-------------+--------------+-----------------------+------+----------+--------------+--------+--------------------+---------------+-------------+-------------+-----------+------------------+------+--------+-----------------+-----------------+------------------------+-------------+----------------+-----------------+---------------------+---------------+--------------+------------------+-----------------------+--------------------+-----+---------------------+-----------------+---------------------+-------------+--------------+--------------------+-------------+---------------+--------------------+\n",
      "|Age|Attrition|   BusinessTravel|DailyRate|          Department|DistanceFromHome|Education|EducationField|EmployeeCount|EmployeeNumber|EnvironmentSatisfaction|Gender|HourlyRate|JobInvolvement|JobLevel|             JobRole|JobSatisfaction|MaritalStatus|MonthlyIncome|MonthlyRate|NumCompaniesWorked|Over18|OverTime|PercentSalaryHike|PerformanceRating|RelationshipSatisfaction|StandardHours|StockOptionLevel|TotalWorkingYears|TrainingTimesLastYear|WorkLifeBalance|YearsAtCompany|YearsInCurrentRole|YearsSinceLastPromotion|YearsWithCurrManager|label|BusinessTravelIndexed|DepartmentIndexed|EducationFieldIndexed|GenderIndexed|JobRoleIndexed|MaritalStatusIndexed|Over18Indexed|OverTimeIndexed|            features|\n",
      "+---+---------+-----------------+---------+--------------------+----------------+---------+--------------+-------------+--------------+-----------------------+------+----------+--------------+--------+--------------------+---------------+-------------+-------------+-----------+------------------+------+--------+-----------------+-----------------+------------------------+-------------+----------------+-----------------+---------------------+---------------+--------------+------------------+-----------------------+--------------------+-----+---------------------+-----------------+---------------------+-------------+--------------+--------------------+-------------+---------------+--------------------+\n",
      "| 41|      Yes|    Travel_Rarely|     1102|               Sales|               1|        2| Life Sciences|            1|             1|                      2|Female|        94|             3|       2|     Sales Executive|              4|       Single|         5993|      19479|                 8|     Y|     Yes|               11|                3|                       1|           80|               0|                8|                    0|              1|             6|                 4|                      0|                   5|  1.0|                  0.0|              1.0|                  0.0|          1.0|           0.0|                 1.0|          0.0|            1.0|[0.0,1.0,0.0,1.0,...|\n",
      "| 49|       No|Travel_Frequently|      279|Research & Develo...|               8|        1| Life Sciences|            1|             2|                      3|  Male|        61|             2|       2|  Research Scientist|              2|      Married|         5130|      24907|                 1|     Y|      No|               23|                4|                       4|           80|               1|               10|                    3|              3|            10|                 7|                      1|                   7|  0.0|                  1.0|              0.0|                  0.0|          0.0|           1.0|                 0.0|          0.0|            0.0|[1.0,0.0,0.0,0.0,...|\n",
      "| 37|      Yes|    Travel_Rarely|     1373|Research & Develo...|               2|        2|         Other|            1|             4|                      4|  Male|        92|             2|       1|Laboratory Techni...|              3|       Single|         2090|       2396|                 6|     Y|     Yes|               15|                3|                       2|           80|               0|                7|                    3|              3|             0|                 0|                      0|                   0|  1.0|                  0.0|              0.0|                  4.0|          0.0|           2.0|                 1.0|          0.0|            1.0|[0.0,0.0,4.0,0.0,...|\n",
      "| 33|       No|Travel_Frequently|     1392|Research & Develo...|               3|        4| Life Sciences|            1|             5|                      4|Female|        56|             3|       1|  Research Scientist|              3|      Married|         2909|      23159|                 1|     Y|     Yes|               11|                3|                       3|           80|               0|                8|                    3|              3|             8|                 7|                      3|                   0|  0.0|                  1.0|              0.0|                  0.0|          1.0|           1.0|                 0.0|          0.0|            1.0|[1.0,0.0,0.0,1.0,...|\n",
      "| 27|       No|    Travel_Rarely|      591|Research & Develo...|               2|        1|       Medical|            1|             7|                      1|  Male|        40|             3|       1|Laboratory Techni...|              2|      Married|         3468|      16632|                 9|     Y|      No|               12|                3|                       4|           80|               1|                6|                    3|              3|             2|                 2|                      2|                   2|  0.0|                  0.0|              0.0|                  1.0|          0.0|           2.0|                 0.0|          0.0|            0.0|[0.0,0.0,1.0,0.0,...|\n",
      "| 32|       No|Travel_Frequently|     1005|Research & Develo...|               2|        2| Life Sciences|            1|             8|                      4|  Male|        79|             3|       1|Laboratory Techni...|              4|       Single|         3068|      11864|                 0|     Y|      No|               13|                3|                       3|           80|               0|                8|                    2|              2|             7|                 7|                      3|                   6|  0.0|                  1.0|              0.0|                  0.0|          0.0|           2.0|                 1.0|          0.0|            0.0|[1.0,0.0,0.0,0.0,...|\n",
      "| 59|       No|    Travel_Rarely|     1324|Research & Develo...|               3|        3|       Medical|            1|            10|                      3|Female|        81|             4|       1|Laboratory Techni...|              1|      Married|         2670|       9964|                 4|     Y|     Yes|               20|                4|                       1|           80|               3|               12|                    3|              2|             1|                 0|                      0|                   0|  0.0|                  0.0|              0.0|                  1.0|          1.0|           2.0|                 0.0|          0.0|            1.0|[0.0,0.0,1.0,1.0,...|\n",
      "| 30|       No|    Travel_Rarely|     1358|Research & Develo...|              24|        1| Life Sciences|            1|            11|                      4|  Male|        67|             3|       1|Laboratory Techni...|              3|     Divorced|         2693|      13335|                 1|     Y|      No|               22|                4|                       2|           80|               1|                1|                    2|              3|             1|                 0|                      0|                   0|  0.0|                  0.0|              0.0|                  0.0|          0.0|           2.0|                 2.0|          0.0|            0.0|[0.0,0.0,0.0,0.0,...|\n",
      "| 38|       No|Travel_Frequently|      216|Research & Develo...|              23|        3| Life Sciences|            1|            12|                      4|  Male|        44|             2|       3|Manufacturing Dir...|              3|       Single|         9526|       8787|                 0|     Y|      No|               21|                4|                       2|           80|               0|               10|                    2|              3|             9|                 7|                      1|                   8|  0.0|                  1.0|              0.0|                  0.0|          0.0|           3.0|                 1.0|          0.0|            0.0|[1.0,0.0,0.0,0.0,...|\n",
      "| 36|       No|    Travel_Rarely|     1299|Research & Develo...|              27|        3|       Medical|            1|            13|                      3|  Male|        94|             3|       2|Healthcare Repres...|              3|      Married|         5237|      16577|                 6|     Y|      No|               13|                3|                       2|           80|               2|               17|                    3|              2|             7|                 7|                      7|                   7|  0.0|                  0.0|              0.0|                  1.0|          0.0|           4.0|                 0.0|          0.0|            0.0|[0.0,0.0,1.0,0.0,...|\n",
      "| 35|       No|    Travel_Rarely|      809|Research & Develo...|              16|        3|       Medical|            1|            14|                      1|  Male|        84|             4|       1|Laboratory Techni...|              2|      Married|         2426|      16479|                 0|     Y|      No|               13|                3|                       3|           80|               1|                6|                    5|              3|             5|                 4|                      0|                   3|  0.0|                  0.0|              0.0|                  1.0|          0.0|           2.0|                 0.0|          0.0|            0.0|[0.0,0.0,1.0,0.0,...|\n",
      "| 29|       No|    Travel_Rarely|      153|Research & Develo...|              15|        2| Life Sciences|            1|            15|                      4|Female|        49|             2|       2|Laboratory Techni...|              3|       Single|         4193|      12682|                 0|     Y|     Yes|               12|                3|                       4|           80|               0|               10|                    3|              3|             9|                 5|                      0|                   8|  0.0|                  0.0|              0.0|                  0.0|          1.0|           2.0|                 1.0|          0.0|            1.0|[0.0,0.0,0.0,1.0,...|\n",
      "| 31|       No|    Travel_Rarely|      670|Research & Develo...|              26|        1| Life Sciences|            1|            16|                      1|  Male|        31|             3|       1|  Research Scientist|              3|     Divorced|         2911|      15170|                 1|     Y|      No|               17|                3|                       4|           80|               1|                5|                    1|              2|             5|                 2|                      4|                   3|  0.0|                  0.0|              0.0|                  0.0|          0.0|           1.0|                 2.0|          0.0|            0.0|[0.0,0.0,0.0,0.0,...|\n",
      "| 34|       No|    Travel_Rarely|     1346|Research & Develo...|              19|        2|       Medical|            1|            18|                      2|  Male|        93|             3|       1|Laboratory Techni...|              4|     Divorced|         2661|       8758|                 0|     Y|      No|               11|                3|                       3|           80|               1|                3|                    2|              3|             2|                 2|                      1|                   2|  0.0|                  0.0|              0.0|                  1.0|          0.0|           2.0|                 2.0|          0.0|            0.0|[0.0,0.0,1.0,0.0,...|\n",
      "| 28|      Yes|    Travel_Rarely|      103|Research & Develo...|              24|        3| Life Sciences|            1|            19|                      3|  Male|        50|             2|       1|Laboratory Techni...|              3|       Single|         2028|      12947|                 5|     Y|     Yes|               14|                3|                       2|           80|               0|                6|                    4|              3|             4|                 2|                      0|                   3|  1.0|                  0.0|              0.0|                  0.0|          0.0|           2.0|                 1.0|          0.0|            1.0|[0.0,0.0,0.0,0.0,...|\n",
      "| 29|       No|    Travel_Rarely|     1389|Research & Develo...|              21|        4| Life Sciences|            1|            20|                      2|Female|        51|             4|       3|Manufacturing Dir...|              1|     Divorced|         9980|      10195|                 1|     Y|      No|               11|                3|                       3|           80|               1|               10|                    1|              3|            10|                 9|                      8|                   8|  0.0|                  0.0|              0.0|                  0.0|          1.0|           3.0|                 2.0|          0.0|            0.0|[0.0,0.0,0.0,1.0,...|\n",
      "| 32|       No|    Travel_Rarely|      334|Research & Develo...|               5|        2| Life Sciences|            1|            21|                      1|  Male|        80|             4|       1|  Research Scientist|              2|     Divorced|         3298|      15053|                 0|     Y|     Yes|               12|                3|                       4|           80|               2|                7|                    5|              2|             6|                 2|                      0|                   5|  0.0|                  0.0|              0.0|                  0.0|          0.0|           1.0|                 2.0|          0.0|            1.0|[0.0,0.0,0.0,0.0,...|\n",
      "| 22|       No|       Non-Travel|     1123|Research & Develo...|              16|        2|       Medical|            1|            22|                      4|  Male|        96|             4|       1|Laboratory Techni...|              4|     Divorced|         2935|       7324|                 1|     Y|     Yes|               13|                3|                       2|           80|               2|                1|                    2|              2|             1|                 0|                      0|                   0|  0.0|                  2.0|              0.0|                  1.0|          0.0|           2.0|                 2.0|          0.0|            1.0|[2.0,0.0,1.0,0.0,...|\n",
      "| 53|       No|    Travel_Rarely|     1219|               Sales|               2|        4| Life Sciences|            1|            23|                      1|Female|        78|             2|       4|             Manager|              4|      Married|        15427|      22021|                 2|     Y|      No|               16|                3|                       3|           80|               0|               31|                    3|              3|            25|                 8|                      3|                   7|  0.0|                  0.0|              1.0|                  0.0|          1.0|           5.0|                 0.0|          0.0|            0.0|[0.0,1.0,0.0,1.0,...|\n",
      "| 38|       No|    Travel_Rarely|      371|Research & Develo...|               2|        3| Life Sciences|            1|            24|                      4|  Male|        45|             3|       1|  Research Scientist|              4|       Single|         3944|       4306|                 5|     Y|     Yes|               11|                3|                       3|           80|               0|                6|                    3|              3|             3|                 2|                      1|                   2|  0.0|                  0.0|              0.0|                  0.0|          0.0|           1.0|                 1.0|          0.0|            1.0|[0.0,0.0,0.0,0.0,...|\n",
      "+---+---------+-----------------+---------+--------------------+----------------+---------+--------------+-------------+--------------+-----------------------+------+----------+--------------+--------+--------------------+---------------+-------------+-------------+-----------+------------------+------+--------+-----------------+-----------------+------------------------+-------------+----------------+-----------------+---------------------+---------------+--------------+------------------+-----------------------+--------------------+-----+---------------------+-----------------+---------------------+-------------+--------------+--------------------+-------------+---------------+--------------------+\n",
      "only showing top 20 rows\n",
      "\n"
     ]
    }
   ],
   "source": [
    "val assembler = new VectorAssembler().setInputCols(Array(\"BusinessTravelIndexed\", \"DepartmentIndexed\", \"EducationFieldIndexed\", \n",
    "\"GenderIndexed\", \"JobRoleIndexed\", \"MaritalStatusIndexed\", \"Over18Indexed\", \"OverTimeIndexed\", \"Age\", \n",
    "\"DailyRate\", \"DistanceFromHome\", \"Education\",\"EmployeeCount\", \"EmployeeNumber\",\"EnvironmentSatisfaction\",\"HourlyRate\",\n",
    "\"JobInvolvement\",\"JobLevel\",\"JobSatisfaction\",\"MonthlyIncome\",\"MonthlyRate\",\"NumCompaniesWorked\",\"PercentSalaryHike\",\n",
    "\"PerformanceRating\",\"RelationshipSatisfaction\",\"StandardHours\",\"StockOptionLevel\",\"TotalWorkingYears\",\"TrainingTimesLastYear\",\n",
    "\"WorkLifeBalance\",\"YearsAtCompany\",\"YearsInCurrentRole\",\"YearsSinceLastPromotion\",\"YearsWithCurrManager\")).setOutputCol(\"features\")\n",
    "val result = assembler.transform(OverTime_IndexedDF)\n",
    "result.show"
   ]
  },
  {
   "cell_type": "code",
   "execution_count": 10,
   "metadata": {},
   "outputs": [
    {
     "name": "stdout",
     "output_type": "stream",
     "text": [
      "+-----+--------------------+---------------------+-----------------+---------------------+\n",
      "|label|            features|BusinessTravelIndexed|DepartmentIndexed|EducationFieldIndexed|\n",
      "+-----+--------------------+---------------------+-----------------+---------------------+\n",
      "|  1.0|[0.0,1.0,0.0,1.0,...|                  0.0|              1.0|                  0.0|\n",
      "|  0.0|[1.0,0.0,0.0,0.0,...|                  1.0|              0.0|                  0.0|\n",
      "+-----+--------------------+---------------------+-----------------+---------------------+\n",
      "only showing top 2 rows\n",
      "\n"
     ]
    }
   ],
   "source": [
    "result.select(\"label\",\"features\",\"BusinessTravelIndexed\",\"DepartmentIndexed\",\"EducationFieldIndexed\").show(2)"
   ]
  },
  {
   "cell_type": "markdown",
   "metadata": {},
   "source": [
    "### 1.3. Feature Correlation using Pearson's Correlation Matrix"
   ]
  },
  {
   "cell_type": "markdown",
   "metadata": {},
   "source": [
    "By plotting a correlation matrix, we can have an overview of how the features are related to one another. "
   ]
  },
  {
   "cell_type": "code",
   "execution_count": 11,
   "metadata": {
    "scrolled": true
   },
   "outputs": [
    {
     "name": "stdout",
     "output_type": "stream",
     "text": [
      "Pearson's correlation matrix:\n",
      "[1.0                    -9.345554473742944E-4  ... (34 total)\n",
      "-9.345554473742944E-4  1.0                    ...\n",
      "-0.021512719737780385  0.253736538418516      ...\n",
      "-0.03298095630330798   4.883422630625519E-4   ...\n",
      "-0.028663665240755     0.08477914511425376    ...\n",
      "0.06573146408981918    -0.03081840512586054   ...\n",
      "NaN                    NaN                    ...\n",
      "-0.016543041959464554  3.3961808998089277E-4  ...\n",
      "-0.024751434227472353  -0.007652016028022201  ...\n",
      "0.00408603392695391    -0.021958839348349083  ...\n",
      "0.024469441632343172   0.0021963708361808073  ...\n",
      "-7.5693310007276E-4    0.019636446644669635   ...\n",
      "NaN                    NaN                    ...\n",
      "0.015577822975475329   0.05766297309290677    ...\n",
      "-0.004174404869855     -0.026110442307181205  ...\n",
      "-0.026528186185597415  -0.021527658389011904  ...\n",
      "-0.039061500556181315  -0.017692783090383083  ...\n",
      "-0.019311282061786422  0.08801799142179016    ...\n",
      "0.033962151335930515   -0.006231043718765055  ...\n",
      "-0.034318945923127314  0.056572564423940236   ...\n",
      "0.014107088393484235   -0.004124018517277284  ...\n",
      "-0.020874752414058374  -0.011261207784913374  ...\n",
      "0.02937705426278166    -0.03493323941244001   ...\n",
      "0.026341134547224327   -0.02964810839364971   ...\n",
      "0.035985692634999324   0.01615360747017755    ...\n",
      "NaN                    NaN                    ...\n",
      "0.016726870591561215   -0.015585191968135754  ...\n",
      "-0.03422562156281248   -0.006601616112464905  ...\n",
      "-0.015240033390295425  -0.00854879591727488   ...\n",
      "0.011255819808943296   0.07550687314129842    ...\n",
      "0.014575008100002803   0.029752308797389798   ...\n",
      "0.011497447101210848   0.009203842363182543   ...\n",
      "0.032591152939875204   0.00839365362456902    ...\n",
      "0.02263573447697327    0.0028740251319991678  ...]\n"
     ]
    }
   ],
   "source": [
    "import org.apache.spark.ml.stat.Correlation\n",
    "import org.apache.spark.sql.Row\n",
    "val coeff1 = Correlation.corr(result, \"features\").head\n",
    "println(\"Pearson's correlation matrix:\\n\" + coeff1.toString)"
   ]
  },
  {
   "cell_type": "markdown",
   "metadata": {},
   "source": [
    "## 2. Data Analysis\n",
    "\n",
    "We found a few interesting facts when exploring the data."
   ]
  },
  {
   "cell_type": "markdown",
   "metadata": {},
   "source": [
    "### 2.1. Number of employees who left vs. stayed"
   ]
  },
  {
   "cell_type": "code",
   "execution_count": 12,
   "metadata": {},
   "outputs": [
    {
     "name": "stdout",
     "output_type": "stream",
     "text": [
      "+---------+----------------+\n",
      "|Attrition|count(Attrition)|\n",
      "+---------+----------------+\n",
      "|       No|            1233|\n",
      "|      Yes|             237|\n",
      "+---------+----------------+\n",
      "\n"
     ]
    }
   ],
   "source": [
    "var leftVsStayed=result.groupBy(\"Attrition\").agg(count(\"Attrition\"))\n",
    "leftVsStayed.show"
   ]
  },
  {
   "cell_type": "markdown",
   "metadata": {},
   "source": [
    "From the above results, we can say that approximately 16% of the employees left the company."
   ]
  },
  {
   "cell_type": "markdown",
   "metadata": {},
   "source": [
    "### 2.2. Average employee satisfaction of employees who left vs. stayed"
   ]
  },
  {
   "cell_type": "code",
   "execution_count": 13,
   "metadata": {},
   "outputs": [
    {
     "name": "stdout",
     "output_type": "stream",
     "text": [
      "+---------+--------------------+\n",
      "|Attrition|avg(JobSatisfaction)|\n",
      "+---------+--------------------+\n",
      "|       No|   2.778588807785888|\n",
      "|      Yes|  2.4683544303797467|\n",
      "+---------+--------------------+\n",
      "\n"
     ]
    }
   ],
   "source": [
    "var satisfaction=result.groupBy(\"Attrition\").agg(mean(\"JobSatisfaction\"))\n",
    "satisfaction.show"
   ]
  },
  {
   "cell_type": "markdown",
   "metadata": {},
   "source": [
    "### 2.3. Average employee satisfaction based on job role"
   ]
  },
  {
   "cell_type": "code",
   "execution_count": 14,
   "metadata": {},
   "outputs": [
    {
     "name": "stdout",
     "output_type": "stream",
     "text": [
      "+--------------------+--------------------+\n",
      "|             JobRole|avg(JobSatisfaction)|\n",
      "+--------------------+--------------------+\n",
      "|     Sales Executive|   2.754601226993865|\n",
      "|Manufacturing Dir...|   2.682758620689655|\n",
      "|Laboratory Techni...|  2.6911196911196913|\n",
      "|Sales Representative|  2.7349397590361444|\n",
      "|Healthcare Repres...|   2.786259541984733|\n",
      "|  Research Scientist|  2.7739726027397262|\n",
      "|             Manager|  2.7058823529411766|\n",
      "|   Research Director|                 2.7|\n",
      "|     Human Resources|  2.5576923076923075|\n",
      "+--------------------+--------------------+\n",
      "\n"
     ]
    }
   ],
   "source": [
    "var ProjectsSatisfaction=result.groupBy(\"JobRole\").agg(mean(\"JobSatisfaction\"))\n",
    "ProjectsSatisfaction.show"
   ]
  },
  {
   "cell_type": "markdown",
   "metadata": {},
   "source": [
    "Human Resources Employees have the least job satisfaction rate while Health Care Representatives have the  most."
   ]
  },
  {
   "cell_type": "markdown",
   "metadata": {},
   "source": [
    "## 3. Machine Learning Models\n",
    "\n",
    "The prediction of employee attrition requires a Binary Classification Model which decides the Attrition variable as 'Yes/No'. We used 6 different models : Naive Bayes, Decision Tree, LogisticRegression, Gradient Boosting, Random Forest and Linear Support Vector Classifier.\n",
    "We evaluated these models and compared the accuracy and time taken by each of them. Confusion Matrix was computed for each of the models."
   ]
  },
  {
   "cell_type": "markdown",
   "metadata": {},
   "source": [
    "### Randomly Split the data for Training and Testing"
   ]
  },
  {
   "cell_type": "code",
   "execution_count": 15,
   "metadata": {
    "collapsed": true
   },
   "outputs": [],
   "source": [
    "val Array(train, test) = result.randomSplit(Array(0.7, 0.3))"
   ]
  },
  {
   "cell_type": "markdown",
   "metadata": {},
   "source": [
    "## Model 1 : Naive Bayes"
   ]
  },
  {
   "cell_type": "code",
   "execution_count": 16,
   "metadata": {},
   "outputs": [
    {
     "name": "stdout",
     "output_type": "stream",
     "text": [
      "Time elapsed for Naive Bayes:\n",
      "9.846159471\n"
     ]
    }
   ],
   "source": [
    "import org.apache.spark.ml.classification.NaiveBayes\n",
    "val nb = new NaiveBayes().setLabelCol(\"label\").setFeaturesCol(\"features\")\n",
    "\n",
    "val startTime_nb = System.nanoTime()  \n",
    "\n",
    "val model_nb = nb.fit(train)\n",
    "\n",
    "val time_nb = (System.nanoTime() - startTime_nb) / 1e9\n",
    "\n",
    "println(\"Time elapsed for Naive Bayes:\")\n",
    "println(time_nb)"
   ]
  },
  {
   "cell_type": "code",
   "execution_count": 17,
   "metadata": {},
   "outputs": [
    {
     "name": "stdout",
     "output_type": "stream",
     "text": [
      "+---+---------+-----------------+---------+--------------------+----------------+---------+----------------+-------------+--------------+-----------------------+------+----------+--------------+--------+--------------------+---------------+-------------+-------------+-----------+------------------+------+--------+-----------------+-----------------+------------------------+-------------+----------------+-----------------+---------------------+---------------+--------------+------------------+-----------------------+--------------------+-----+---------------------+-----------------+---------------------+-------------+--------------+--------------------+-------------+---------------+--------------------+--------------------+--------------------+----------+\n",
      "|Age|Attrition|   BusinessTravel|DailyRate|          Department|DistanceFromHome|Education|  EducationField|EmployeeCount|EmployeeNumber|EnvironmentSatisfaction|Gender|HourlyRate|JobInvolvement|JobLevel|             JobRole|JobSatisfaction|MaritalStatus|MonthlyIncome|MonthlyRate|NumCompaniesWorked|Over18|OverTime|PercentSalaryHike|PerformanceRating|RelationshipSatisfaction|StandardHours|StockOptionLevel|TotalWorkingYears|TrainingTimesLastYear|WorkLifeBalance|YearsAtCompany|YearsInCurrentRole|YearsSinceLastPromotion|YearsWithCurrManager|label|BusinessTravelIndexed|DepartmentIndexed|EducationFieldIndexed|GenderIndexed|JobRoleIndexed|MaritalStatusIndexed|Over18Indexed|OverTimeIndexed|            features|       rawPrediction|         probability|prediction|\n",
      "+---+---------+-----------------+---------+--------------------+----------------+---------+----------------+-------------+--------------+-----------------------+------+----------+--------------+--------+--------------------+---------------+-------------+-------------+-----------+------------------+------+--------+-----------------+-----------------+------------------------+-------------+----------------+-----------------+---------------------+---------------+--------------+------------------+-----------------------+--------------------+-----+---------------------+-----------------+---------------------+-------------+--------------+--------------------+-------------+---------------+--------------------+--------------------+--------------------+----------+\n",
      "| 18|       No|       Non-Travel|     1124|Research & Develo...|               1|        3|   Life Sciences|            1|          1368|                      4|Female|        97|             3|       1|Laboratory Techni...|              4|       Single|         1611|      19305|                 1|     Y|      No|               15|                3|                       3|           80|               0|                0|                    5|              4|             0|                 0|                      0|                   0|  0.0|                  2.0|              0.0|                  0.0|          1.0|           2.0|                 1.0|          0.0|            0.0|[2.0,0.0,0.0,1.0,...|[-21128.485324840...|           [0.0,1.0]|       1.0|\n",
      "| 18|       No|    Travel_Rarely|      812|               Sales|              10|        3|         Medical|            1|           411|                      4|Female|        69|             2|       1|Sales Representative|              3|       Single|         1200|       9724|                 1|     Y|      No|               12|                3|                       1|           80|               0|                0|                    2|              3|             0|                 0|                      0|                   0|  0.0|                  0.0|              1.0|                  1.0|          1.0|           6.0|                 1.0|          0.0|            0.0|[0.0,1.0,1.0,1.0,...|[-11717.155456223...|           [0.0,1.0]|       1.0|\n",
      "| 19|       No|    Travel_Rarely|     1181|Research & Develo...|               3|        1|         Medical|            1|           201|                      2|Female|        79|             3|       1|Laboratory Techni...|              2|       Single|         1483|      16102|                 1|     Y|      No|               14|                3|                       4|           80|               0|                1|                    3|              3|             1|                 0|                      0|                   0|  0.0|                  0.0|              0.0|                  1.0|          1.0|           2.0|                 1.0|          0.0|            0.0|[0.0,0.0,1.0,1.0,...|[-15798.948996430...|           [0.0,1.0]|       1.0|\n",
      "| 20|      Yes|Travel_Frequently|      769|               Sales|               9|        3|       Marketing|            1|          1077|                      4|Female|        54|             3|       1|Sales Representative|              4|       Single|         2323|      17205|                 1|     Y|     Yes|               14|                3|                       2|           80|               0|                2|                    3|              3|             2|                 2|                      0|                   2|  1.0|                  1.0|              1.0|                  2.0|          1.0|           6.0|                 1.0|          0.0|            1.0|[1.0,1.0,2.0,1.0,...|[-18770.485665274...|           [0.0,1.0]|       1.0|\n",
      "| 20|      Yes|Travel_Frequently|      871|Research & Develo...|               6|        3|   Life Sciences|            1|           137|                      4|Female|        66|             2|       1|Laboratory Techni...|              4|       Single|         2926|      19783|                 1|     Y|     Yes|               18|                3|                       2|           80|               0|                1|                    5|              3|             1|                 0|                      1|                   0|  1.0|                  1.0|              0.0|                  0.0|          1.0|           2.0|                 1.0|          0.0|            1.0|[1.0,0.0,0.0,1.0,...|[-18181.409350449...|           [0.0,1.0]|       1.0|\n",
      "| 20|      Yes|    Travel_Rarely|      129|Research & Develo...|               4|        3|Technical Degree|            1|           960|                      1|  Male|        84|             3|       1|Laboratory Techni...|              1|       Single|         2973|      13008|                 1|     Y|      No|               19|                3|                       2|           80|               0|                1|                    2|              3|             1|                 0|                      0|                   0|  1.0|                  0.0|              0.0|                  3.0|          0.0|           2.0|                 1.0|          0.0|            0.0|[0.0,0.0,3.0,0.0,...|[-14959.026106005...|[7.96526234359136...|       1.0|\n",
      "| 20|      Yes|    Travel_Rarely|      500|               Sales|               2|        3|         Medical|            1|           922|                      3|Female|        49|             2|       1|Sales Representative|              3|       Single|         2044|      22052|                 1|     Y|      No|               13|                3|                       4|           80|               0|                2|                    3|              2|             2|                 2|                      0|                   2|  1.0|                  0.0|              1.0|                  1.0|          1.0|           6.0|                 1.0|          0.0|            0.0|[0.0,1.0,1.0,1.0,...|[-19315.276019094...|           [0.0,1.0]|       1.0|\n",
      "| 21|       No|    Travel_Rarely|      546|Research & Develo...|               5|        1|         Medical|            1|          1623|                      3|  Male|        97|             3|       1|  Research Scientist|              4|       Single|         3117|      26009|                 1|     Y|      No|               18|                3|                       3|           80|               0|                3|                    2|              3|             2|                 2|                      2|                   2|  0.0|                  0.0|              0.0|                  1.0|          0.0|           1.0|                 1.0|          0.0|            0.0|[0.0,0.0,1.0,0.0,...|[-25198.651651103...|           [0.0,1.0]|       1.0|\n",
      "| 21|       No|    Travel_Rarely|      996|Research & Develo...|               3|        2|         Medical|            1|           379|                      4|  Male|       100|             2|       1|  Research Scientist|              3|       Single|         3230|      10531|                 1|     Y|      No|               17|                3|                       1|           80|               0|                3|                    4|              4|             3|                 2|                      1|                   0|  0.0|                  0.0|              0.0|                  1.0|          0.0|           1.0|                 1.0|          0.0|            0.0|[0.0,0.0,1.0,0.0,...|[-15291.480850394...|[5.18799793407785...|       1.0|\n",
      "| 21|       No|    Travel_Rarely|     1343|               Sales|              22|        1|Technical Degree|            1|           669|                      3|  Male|        49|             3|       1|Sales Representative|              3|       Single|         3447|      24444|                 1|     Y|      No|               11|                3|                       3|           80|               0|                3|                    2|              3|             3|                 2|                      1|                   2|  0.0|                  0.0|              1.0|                  3.0|          0.0|           6.0|                 1.0|          0.0|            0.0|[0.0,1.0,3.0,0.0,...|[-24396.777167752...|           [0.0,1.0]|       1.0|\n",
      "| 21|      Yes|Travel_Frequently|      756|               Sales|               1|        1|Technical Degree|            1|           478|                      1|Female|        99|             2|       1|Sales Representative|              2|       Single|         2174|       9150|                 1|     Y|     Yes|               11|                3|                       3|           80|               0|                3|                    3|              3|             3|                 2|                      1|                   2|  1.0|                  1.0|              1.0|                  3.0|          1.0|           6.0|                 1.0|          0.0|            1.0|[1.0,1.0,3.0,1.0,...|[-12851.749252202...|[6.82762053806510...|       1.0|\n",
      "| 21|      Yes|    Travel_Rarely|      156|               Sales|              12|        3|   Life Sciences|            1|           494|                      3|Female|        90|             4|       1|Sales Representative|              2|       Single|         2716|      25422|                 1|     Y|      No|               15|                3|                       4|           80|               0|                1|                    0|              3|             1|                 0|                      0|                   0|  1.0|                  0.0|              1.0|                  0.0|          1.0|           6.0|                 1.0|          0.0|            0.0|[0.0,1.0,0.0,1.0,...|[-19591.937368010...|           [0.0,1.0]|       1.0|\n",
      "| 22|       No|       Non-Travel|      457|Research & Develo...|              26|        2|           Other|            1|          1605|                      2|Female|        85|             2|       1|  Research Scientist|              3|      Married|         2814|      10293|                 1|     Y|     Yes|               14|                3|                       2|           80|               0|                4|                    2|              2|             4|                 2|                      1|                   3|  0.0|                  2.0|              0.0|                  4.0|          1.0|           1.0|                 0.0|          0.0|            1.0|[2.0,0.0,4.0,1.0,...|[-16806.417742621...|[2.01653149521055...|       1.0|\n",
      "| 22|       No|    Travel_Rarely|      217|Research & Develo...|               8|        1|   Life Sciences|            1|          1019|                      2|  Male|        94|             1|       1|Laboratory Techni...|              1|      Married|         2451|       6881|                 1|     Y|      No|               15|                3|                       1|           80|               1|                4|                    3|              2|             4|                 3|                      1|                   1|  0.0|                  0.0|              0.0|                  0.0|          0.0|           2.0|                 0.0|          0.0|            0.0|[0.0,0.0,0.0,0.0,...|[-11864.952366054...|[1.02746962920712...|       1.0|\n",
      "| 22|       No|    Travel_Rarely|      253|Research & Develo...|              11|        3|         Medical|            1|           511|                      1|Female|        43|             3|       1|  Research Scientist|              2|      Married|         2244|      24440|                 1|     Y|      No|               13|                3|                       4|           80|               1|                2|                    1|              3|             2|                 1|                      1|                   2|  0.0|                  0.0|              0.0|                  1.0|          1.0|           1.0|                 0.0|          0.0|            0.0|[0.0,0.0,1.0,1.0,...|[-18606.331787614...|           [0.0,1.0]|       1.0|\n",
      "| 22|       No|    Travel_Rarely|      534|Research & Develo...|              15|        3|         Medical|            1|           144|                      2|Female|        59|             3|       1|Laboratory Techni...|              4|       Single|         2871|      23785|                 1|     Y|      No|               15|                3|                       3|           80|               0|                1|                    5|              3|             0|                 0|                      0|                   0|  0.0|                  0.0|              0.0|                  1.0|          1.0|           2.0|                 1.0|          0.0|            0.0|[0.0,0.0,1.0,1.0,...|[-18985.283582520...|           [0.0,1.0]|       1.0|\n",
      "| 22|       No|    Travel_Rarely|      604|Research & Develo...|               6|        1|         Medical|            1|           675|                      1|  Male|        69|             3|       1|  Research Scientist|              3|      Married|         2773|      12145|                 0|     Y|      No|               20|                4|                       4|           80|               0|                3|                    3|              3|             2|                 2|                      2|                   2|  0.0|                  0.0|              0.0|                  1.0|          0.0|           1.0|                 0.0|          0.0|            0.0|[0.0,0.0,1.0,0.0,...|[-15006.624677837...|[2.41186091474121...|       1.0|\n",
      "| 22|      Yes|Travel_Frequently|     1256|Research & Develo...|               3|        4|   Life Sciences|            1|          1203|                      3|  Male|        48|             2|       1|  Research Scientist|              4|      Married|         2853|       4223|                 0|     Y|     Yes|               11|                3|                       2|           80|               1|                1|                    5|              3|             0|                 0|                      0|                   0|  1.0|                  1.0|              0.0|                  0.0|          0.0|           1.0|                 0.0|          0.0|            1.0|[1.0,0.0,0.0,0.0,...|[-14753.656283826...|[1.0,4.9182498756...|       0.0|\n",
      "| 22|      Yes|    Travel_Rarely|      617|Research & Develo...|               3|        1|   Life Sciences|            1|           926|                      2|Female|        34|             3|       2|Manufacturing Dir...|              3|      Married|         4171|      10022|                 0|     Y|     Yes|               19|                3|                       1|           80|               1|                4|                    3|              4|             3|                 2|                      0|                   2|  1.0|                  0.0|              0.0|                  0.0|          1.0|           3.0|                 0.0|          0.0|            1.0|[0.0,0.0,0.0,1.0,...|[-16256.367933158...|[1.0,6.3333758966...|       0.0|\n",
      "| 23|       No|    Travel_Rarely|      310|Research & Develo...|              10|        1|         Medical|            1|           784|                      1|  Male|        79|             4|       1|  Research Scientist|              3|       Single|         3505|      19630|                 1|     Y|      No|               18|                3|                       4|           80|               0|                2|                    3|              3|             2|                 2|                      0|                   2|  0.0|                  0.0|              0.0|                  1.0|          0.0|           1.0|                 1.0|          0.0|            0.0|[0.0,0.0,1.0,0.0,...|[-19032.922625916...|           [0.0,1.0]|       1.0|\n",
      "+---+---------+-----------------+---------+--------------------+----------------+---------+----------------+-------------+--------------+-----------------------+------+----------+--------------+--------+--------------------+---------------+-------------+-------------+-----------+------------------+------+--------+-----------------+-----------------+------------------------+-------------+----------------+-----------------+---------------------+---------------+--------------+------------------+-----------------------+--------------------+-----+---------------------+-----------------+---------------------+-------------+--------------+--------------------+-------------+---------------+--------------------+--------------------+--------------------+----------+\n",
      "only showing top 20 rows\n",
      "\n"
     ]
    }
   ],
   "source": [
    "val predictions_nb = model_nb.transform(test)\n",
    "predictions_nb.show"
   ]
  },
  {
   "cell_type": "code",
   "execution_count": 18,
   "metadata": {},
   "outputs": [
    {
     "name": "stdout",
     "output_type": "stream",
     "text": [
      "+-----+--------------------+----------+---------------------+\n",
      "|label|            features|prediction|BusinessTravelIndexed|\n",
      "+-----+--------------------+----------+---------------------+\n",
      "|  0.0|[2.0,0.0,0.0,1.0,...|       1.0|                  2.0|\n",
      "|  0.0|[0.0,1.0,1.0,1.0,...|       1.0|                  0.0|\n",
      "|  0.0|[0.0,0.0,1.0,1.0,...|       1.0|                  0.0|\n",
      "|  1.0|[1.0,1.0,2.0,1.0,...|       1.0|                  1.0|\n",
      "|  1.0|[1.0,0.0,0.0,1.0,...|       1.0|                  1.0|\n",
      "+-----+--------------------+----------+---------------------+\n",
      "only showing top 5 rows\n",
      "\n"
     ]
    }
   ],
   "source": [
    "predictions_nb.select(\"label\",\"features\",\"prediction\",\"BusinessTravelIndexed\").show(5)"
   ]
  },
  {
   "cell_type": "code",
   "execution_count": 19,
   "metadata": {
    "collapsed": true
   },
   "outputs": [],
   "source": [
    "import org.apache.spark.ml.feature.Binarizer\n",
    "val binarizer: Binarizer = new Binarizer().setInputCol(\"prediction\").setOutputCol(\"binarized_prediction\").setThreshold(0.5)\n",
    "val predictionBinary_nb = binarizer.transform(predictions_nb) "
   ]
  },
  {
   "cell_type": "code",
   "execution_count": 20,
   "metadata": {},
   "outputs": [
    {
     "name": "stdout",
     "output_type": "stream",
     "text": [
      "+-----+------+\n",
      "|label|Errors|\n",
      "+-----+------+\n",
      "|  0.0|   205|\n",
      "|  1.0|    32|\n",
      "+-----+------+\n",
      "\n"
     ]
    }
   ],
   "source": [
    "val wrongPredictions_nb = predictionBinary_nb.where(expr(\"label != prediction\"))\n",
    "val countErrors_nb = wrongPredictions_nb.groupBy(\"label\").agg(count(\"prediction\").alias(\"Errors\"))\n",
    "countErrors_nb.show"
   ]
  },
  {
   "cell_type": "code",
   "execution_count": 21,
   "metadata": {},
   "outputs": [
    {
     "name": "stdout",
     "output_type": "stream",
     "text": [
      "+-----+-------+\n",
      "|label|Correct|\n",
      "+-----+-------+\n",
      "|  0.0|    168|\n",
      "|  1.0|     47|\n",
      "+-----+-------+\n",
      "\n"
     ]
    }
   ],
   "source": [
    "val correctPredictions_nb = predictionBinary_nb.where(expr(\"label == prediction\"))\n",
    "val countCorrectPredictions_nb = correctPredictions_nb.groupBy(\"label\").agg(count(\"prediction\").alias(\"Correct\"))\n",
    "countCorrectPredictions_nb.show"
   ]
  },
  {
   "cell_type": "markdown",
   "metadata": {},
   "source": [
    "### Confusion Matrix and Accuracy (Naive Bayes)"
   ]
  },
  {
   "cell_type": "code",
   "execution_count": 22,
   "metadata": {},
   "outputs": [
    {
     "name": "stdout",
     "output_type": "stream",
     "text": [
      "Confusion matrix for Naive Bayes:\n",
      "168.0  205.0  \n",
      "32.0   47.0   \n",
      "Accuracy of Naive Bayes:\n",
      "0.4756637168141593\n"
     ]
    }
   ],
   "source": [
    "import org.apache.spark.mllib.evaluation.MulticlassMetrics\n",
    "val selectMetrics_nb = predictions_nb.select(\"label\",\"prediction\")\n",
    "val rdd_nb = selectMetrics_nb.rdd.map(row => {\n",
    "      val label = row.getDouble(0)\n",
    "      val prediction = row.getDouble(1)\n",
    "      (prediction, label)\n",
    "    })\n",
    "val metrics_nb = new MulticlassMetrics(rdd_nb)\n",
    "println(\"Confusion matrix for Naive Bayes:\")\n",
    "val confusionMatrix_nb=metrics_nb.confusionMatrix\n",
    "println(confusionMatrix_nb)\n",
    "println(\"Accuracy of Naive Bayes:\")\n",
    "val accuracy_nb=metrics_nb.accuracy\n",
    "println(accuracy_nb)"
   ]
  },
  {
   "cell_type": "markdown",
   "metadata": {},
   "source": [
    "## Model 2 : Decision Tree"
   ]
  },
  {
   "cell_type": "code",
   "execution_count": 23,
   "metadata": {},
   "outputs": [
    {
     "name": "stdout",
     "output_type": "stream",
     "text": [
      "Time elapsed for Decision tree:\n",
      "5.350314768\n"
     ]
    }
   ],
   "source": [
    "import org.apache.spark.ml.regression.DecisionTreeRegressionModel\n",
    "import org.apache.spark.ml.regression.DecisionTreeRegressor\n",
    "\n",
    "val dt = new DecisionTreeRegressor().setMaxBins(100).setLabelCol(\"label\").setFeaturesCol(\"features\")\n",
    "\n",
    "val startTime_dt = System.nanoTime()\n",
    "\n",
    "val model_dt = dt.fit(train)\n",
    "\n",
    "val time_dt = (System.nanoTime() - startTime_dt) / 1e9\n",
    "\n",
    "println(\"Time elapsed for Decision tree:\")\n",
    "println(time_dt)"
   ]
  },
  {
   "cell_type": "code",
   "execution_count": 24,
   "metadata": {},
   "outputs": [
    {
     "name": "stdout",
     "output_type": "stream",
     "text": [
      "+---+---------+-----------------+---------+--------------------+----------------+---------+----------------+-------------+--------------+-----------------------+------+----------+--------------+--------+--------------------+---------------+-------------+-------------+-----------+------------------+------+--------+-----------------+-----------------+------------------------+-------------+----------------+-----------------+---------------------+---------------+--------------+------------------+-----------------------+--------------------+-----+---------------------+-----------------+---------------------+-------------+--------------+--------------------+-------------+---------------+--------------------+-------------------+\n",
      "|Age|Attrition|   BusinessTravel|DailyRate|          Department|DistanceFromHome|Education|  EducationField|EmployeeCount|EmployeeNumber|EnvironmentSatisfaction|Gender|HourlyRate|JobInvolvement|JobLevel|             JobRole|JobSatisfaction|MaritalStatus|MonthlyIncome|MonthlyRate|NumCompaniesWorked|Over18|OverTime|PercentSalaryHike|PerformanceRating|RelationshipSatisfaction|StandardHours|StockOptionLevel|TotalWorkingYears|TrainingTimesLastYear|WorkLifeBalance|YearsAtCompany|YearsInCurrentRole|YearsSinceLastPromotion|YearsWithCurrManager|label|BusinessTravelIndexed|DepartmentIndexed|EducationFieldIndexed|GenderIndexed|JobRoleIndexed|MaritalStatusIndexed|Over18Indexed|OverTimeIndexed|            features|         prediction|\n",
      "+---+---------+-----------------+---------+--------------------+----------------+---------+----------------+-------------+--------------+-----------------------+------+----------+--------------+--------+--------------------+---------------+-------------+-------------+-----------+------------------+------+--------+-----------------+-----------------+------------------------+-------------+----------------+-----------------+---------------------+---------------+--------------+------------------+-----------------------+--------------------+-----+---------------------+-----------------+---------------------+-------------+--------------+--------------------+-------------+---------------+--------------------+-------------------+\n",
      "| 18|       No|       Non-Travel|     1124|Research & Develo...|               1|        3|   Life Sciences|            1|          1368|                      4|Female|        97|             3|       1|Laboratory Techni...|              4|       Single|         1611|      19305|                 1|     Y|      No|               15|                3|                       3|           80|               0|                0|                    5|              4|             0|                 0|                      0|                   0|  0.0|                  2.0|              0.0|                  0.0|          1.0|           2.0|                 1.0|          0.0|            0.0|[2.0,0.0,0.0,1.0,...|               0.75|\n",
      "| 18|       No|    Travel_Rarely|      812|               Sales|              10|        3|         Medical|            1|           411|                      4|Female|        69|             2|       1|Sales Representative|              3|       Single|         1200|       9724|                 1|     Y|      No|               12|                3|                       1|           80|               0|                0|                    2|              3|             0|                 0|                      0|                   0|  0.0|                  0.0|              1.0|                  1.0|          1.0|           6.0|                 1.0|          0.0|            0.0|[0.0,1.0,1.0,1.0,...|               0.75|\n",
      "| 19|       No|    Travel_Rarely|     1181|Research & Develo...|               3|        1|         Medical|            1|           201|                      2|Female|        79|             3|       1|Laboratory Techni...|              2|       Single|         1483|      16102|                 1|     Y|      No|               14|                3|                       4|           80|               0|                1|                    3|              3|             1|                 0|                      0|                   0|  0.0|                  0.0|              0.0|                  1.0|          1.0|           2.0|                 1.0|          0.0|            0.0|[0.0,0.0,1.0,1.0,...|                0.0|\n",
      "| 20|      Yes|Travel_Frequently|      769|               Sales|               9|        3|       Marketing|            1|          1077|                      4|Female|        54|             3|       1|Sales Representative|              4|       Single|         2323|      17205|                 1|     Y|     Yes|               14|                3|                       2|           80|               0|                2|                    3|              3|             2|                 2|                      0|                   2|  1.0|                  1.0|              1.0|                  2.0|          1.0|           6.0|                 1.0|          0.0|            1.0|[1.0,1.0,2.0,1.0,...| 0.9444444444444444|\n",
      "| 20|      Yes|Travel_Frequently|      871|Research & Develo...|               6|        3|   Life Sciences|            1|           137|                      4|Female|        66|             2|       1|Laboratory Techni...|              4|       Single|         2926|      19783|                 1|     Y|     Yes|               18|                3|                       2|           80|               0|                1|                    5|              3|             1|                 0|                      1|                   0|  1.0|                  1.0|              0.0|                  0.0|          1.0|           2.0|                 1.0|          0.0|            1.0|[1.0,0.0,0.0,1.0,...|                0.0|\n",
      "| 20|      Yes|    Travel_Rarely|      129|Research & Develo...|               4|        3|Technical Degree|            1|           960|                      1|  Male|        84|             3|       1|Laboratory Techni...|              1|       Single|         2973|      13008|                 1|     Y|      No|               19|                3|                       2|           80|               0|                1|                    2|              3|             1|                 0|                      0|                   0|  1.0|                  0.0|              0.0|                  3.0|          0.0|           2.0|                 1.0|          0.0|            0.0|[0.0,0.0,3.0,0.0,...|                1.0|\n",
      "| 20|      Yes|    Travel_Rarely|      500|               Sales|               2|        3|         Medical|            1|           922|                      3|Female|        49|             2|       1|Sales Representative|              3|       Single|         2044|      22052|                 1|     Y|      No|               13|                3|                       4|           80|               0|                2|                    3|              2|             2|                 2|                      0|                   2|  1.0|                  0.0|              1.0|                  1.0|          1.0|           6.0|                 1.0|          0.0|            0.0|[0.0,1.0,1.0,1.0,...|0.18604651162790697|\n",
      "| 21|       No|    Travel_Rarely|      546|Research & Develo...|               5|        1|         Medical|            1|          1623|                      3|  Male|        97|             3|       1|  Research Scientist|              4|       Single|         3117|      26009|                 1|     Y|      No|               18|                3|                       3|           80|               0|                3|                    2|              3|             2|                 2|                      2|                   2|  0.0|                  0.0|              0.0|                  1.0|          0.0|           1.0|                 1.0|          0.0|            0.0|[0.0,0.0,1.0,0.0,...|              0.025|\n",
      "| 21|       No|    Travel_Rarely|      996|Research & Develo...|               3|        2|         Medical|            1|           379|                      4|  Male|       100|             2|       1|  Research Scientist|              3|       Single|         3230|      10531|                 1|     Y|      No|               17|                3|                       1|           80|               0|                3|                    4|              4|             3|                 2|                      1|                   0|  0.0|                  0.0|              0.0|                  1.0|          0.0|           1.0|                 1.0|          0.0|            0.0|[0.0,0.0,1.0,0.0,...|0.11594202898550725|\n",
      "| 21|       No|    Travel_Rarely|     1343|               Sales|              22|        1|Technical Degree|            1|           669|                      3|  Male|        49|             3|       1|Sales Representative|              3|       Single|         3447|      24444|                 1|     Y|      No|               11|                3|                       3|           80|               0|                3|                    2|              3|             3|                 2|                      1|                   2|  0.0|                  0.0|              1.0|                  3.0|          0.0|           6.0|                 1.0|          0.0|            0.0|[0.0,1.0,3.0,0.0,...|0.18604651162790697|\n",
      "| 21|      Yes|Travel_Frequently|      756|               Sales|               1|        1|Technical Degree|            1|           478|                      1|Female|        99|             2|       1|Sales Representative|              2|       Single|         2174|       9150|                 1|     Y|     Yes|               11|                3|                       3|           80|               0|                3|                    3|              3|             3|                 2|                      1|                   2|  1.0|                  1.0|              1.0|                  3.0|          1.0|           6.0|                 1.0|          0.0|            1.0|[1.0,1.0,3.0,1.0,...| 0.3333333333333333|\n",
      "| 21|      Yes|    Travel_Rarely|      156|               Sales|              12|        3|   Life Sciences|            1|           494|                      3|Female|        90|             4|       1|Sales Representative|              2|       Single|         2716|      25422|                 1|     Y|      No|               15|                3|                       4|           80|               0|                1|                    0|              3|             1|                 0|                      0|                   0|  1.0|                  0.0|              1.0|                  0.0|          1.0|           6.0|                 1.0|          0.0|            0.0|[0.0,1.0,0.0,1.0,...|                0.0|\n",
      "| 22|       No|       Non-Travel|      457|Research & Develo...|              26|        2|           Other|            1|          1605|                      2|Female|        85|             2|       1|  Research Scientist|              3|      Married|         2814|      10293|                 1|     Y|     Yes|               14|                3|                       2|           80|               0|                4|                    2|              2|             4|                 2|                      1|                   3|  0.0|                  2.0|              0.0|                  4.0|          1.0|           1.0|                 0.0|          0.0|            1.0|[2.0,0.0,4.0,1.0,...|0.07874015748031496|\n",
      "| 22|       No|    Travel_Rarely|      217|Research & Develo...|               8|        1|   Life Sciences|            1|          1019|                      2|  Male|        94|             1|       1|Laboratory Techni...|              1|      Married|         2451|       6881|                 1|     Y|      No|               15|                3|                       1|           80|               1|                4|                    3|              2|             4|                 3|                      1|                   1|  0.0|                  0.0|              0.0|                  0.0|          0.0|           2.0|                 0.0|          0.0|            0.0|[0.0,0.0,0.0,0.0,...|0.18604651162790697|\n",
      "| 22|       No|    Travel_Rarely|      253|Research & Develo...|              11|        3|         Medical|            1|           511|                      1|Female|        43|             3|       1|  Research Scientist|              2|      Married|         2244|      24440|                 1|     Y|      No|               13|                3|                       4|           80|               1|                2|                    1|              3|             2|                 1|                      1|                   2|  0.0|                  0.0|              0.0|                  1.0|          1.0|           1.0|                 0.0|          0.0|            0.0|[0.0,0.0,1.0,1.0,...|              0.025|\n",
      "| 22|       No|    Travel_Rarely|      534|Research & Develo...|              15|        3|         Medical|            1|           144|                      2|Female|        59|             3|       1|Laboratory Techni...|              4|       Single|         2871|      23785|                 1|     Y|      No|               15|                3|                       3|           80|               0|                1|                    5|              3|             0|                 0|                      0|                   0|  0.0|                  0.0|              0.0|                  1.0|          1.0|           2.0|                 1.0|          0.0|            0.0|[0.0,0.0,1.0,1.0,...|                0.0|\n",
      "| 22|       No|    Travel_Rarely|      604|Research & Develo...|               6|        1|         Medical|            1|           675|                      1|  Male|        69|             3|       1|  Research Scientist|              3|      Married|         2773|      12145|                 0|     Y|      No|               20|                4|                       4|           80|               0|                3|                    3|              3|             2|                 2|                      2|                   2|  0.0|                  0.0|              0.0|                  1.0|          0.0|           1.0|                 0.0|          0.0|            0.0|[0.0,0.0,1.0,0.0,...|              0.025|\n",
      "| 22|      Yes|Travel_Frequently|     1256|Research & Develo...|               3|        4|   Life Sciences|            1|          1203|                      3|  Male|        48|             2|       1|  Research Scientist|              4|      Married|         2853|       4223|                 0|     Y|     Yes|               11|                3|                       2|           80|               1|                1|                    5|              3|             0|                 0|                      0|                   0|  1.0|                  1.0|              0.0|                  0.0|          0.0|           1.0|                 0.0|          0.0|            1.0|[1.0,0.0,0.0,0.0,...|                1.0|\n",
      "| 22|      Yes|    Travel_Rarely|      617|Research & Develo...|               3|        1|   Life Sciences|            1|           926|                      2|Female|        34|             3|       2|Manufacturing Dir...|              3|      Married|         4171|      10022|                 0|     Y|     Yes|               19|                3|                       1|           80|               1|                4|                    3|              4|             3|                 2|                      0|                   2|  1.0|                  0.0|              0.0|                  0.0|          1.0|           3.0|                 0.0|          0.0|            1.0|[0.0,0.0,0.0,1.0,...|0.07874015748031496|\n",
      "| 23|       No|    Travel_Rarely|      310|Research & Develo...|              10|        1|         Medical|            1|           784|                      1|  Male|        79|             4|       1|  Research Scientist|              3|       Single|         3505|      19630|                 1|     Y|      No|               18|                3|                       4|           80|               0|                2|                    3|              3|             2|                 2|                      0|                   2|  0.0|                  0.0|              0.0|                  1.0|          0.0|           1.0|                 1.0|          0.0|            0.0|[0.0,0.0,1.0,0.0,...|              0.025|\n",
      "+---+---------+-----------------+---------+--------------------+----------------+---------+----------------+-------------+--------------+-----------------------+------+----------+--------------+--------+--------------------+---------------+-------------+-------------+-----------+------------------+------+--------+-----------------+-----------------+------------------------+-------------+----------------+-----------------+---------------------+---------------+--------------+------------------+-----------------------+--------------------+-----+---------------------+-----------------+---------------------+-------------+--------------+--------------------+-------------+---------------+--------------------+-------------------+\n",
      "only showing top 20 rows\n",
      "\n"
     ]
    }
   ],
   "source": [
    "val predictions_dt = model_dt.transform(test)\n",
    "predictions_dt.show"
   ]
  },
  {
   "cell_type": "code",
   "execution_count": 25,
   "metadata": {
    "collapsed": true
   },
   "outputs": [],
   "source": [
    "val predictionBinary_dt = binarizer.transform(predictions_dt) "
   ]
  },
  {
   "cell_type": "code",
   "execution_count": 26,
   "metadata": {},
   "outputs": [
    {
     "name": "stdout",
     "output_type": "stream",
     "text": [
      "+-----+------+\n",
      "|label|Errors|\n",
      "+-----+------+\n",
      "|  0.0|   363|\n",
      "|  1.0|    76|\n",
      "+-----+------+\n",
      "\n"
     ]
    }
   ],
   "source": [
    "val wrongPredictions_dt = predictionBinary_dt.where(expr(\"label != prediction\"))\n",
    "val countErrors_dt = wrongPredictions_dt.groupBy(\"label\").agg(count(\"prediction\").alias(\"Errors\"))\n",
    "countErrors_dt.show"
   ]
  },
  {
   "cell_type": "code",
   "execution_count": 27,
   "metadata": {},
   "outputs": [
    {
     "name": "stdout",
     "output_type": "stream",
     "text": [
      "+-----+-------+\n",
      "|label|Correct|\n",
      "+-----+-------+\n",
      "|  0.0|     10|\n",
      "|  1.0|      3|\n",
      "+-----+-------+\n",
      "\n"
     ]
    }
   ],
   "source": [
    "val correctPredictions_dt = predictionBinary_dt.where(expr(\"label == prediction\"))\n",
    "val countCorrectPredictions_dt = correctPredictions_dt.groupBy(\"label\").agg(count(\"prediction\").alias(\"Correct\"))\n",
    "countCorrectPredictions_dt.show"
   ]
  },
  {
   "cell_type": "markdown",
   "metadata": {},
   "source": [
    "### Confusion Matrix and Accuracy (Decision Tree)"
   ]
  },
  {
   "cell_type": "code",
   "execution_count": 28,
   "metadata": {},
   "outputs": [
    {
     "name": "stdout",
     "output_type": "stream",
     "text": [
      "Confusion matrix for Decision Tree:\n",
      "10.0  3.0  \n",
      "4.0   3.0  \n",
      "Accuracy of Decision Tree:\n",
      "0.028761061946902654\n"
     ]
    }
   ],
   "source": [
    "val selectMetrics_dt = predictions_dt.select(\"label\",\"prediction\")\n",
    "val rdd_dt = selectMetrics_dt.rdd.map(row => {\n",
    "      val label = row.getDouble(0)\n",
    "      val prediction = row.getDouble(1)\n",
    "      (prediction, label)\n",
    "    })\n",
    "val metrics_dt = new MulticlassMetrics(rdd_dt)\n",
    "println(\"Confusion matrix for Decision Tree:\")\n",
    "val confusionMatrix_dt=metrics_dt.confusionMatrix\n",
    "println(confusionMatrix_dt)\n",
    "println(\"Accuracy of Decision Tree:\")\n",
    "val accuracy_dt=metrics_dt.accuracy\n",
    "println(accuracy_dt)"
   ]
  },
  {
   "cell_type": "markdown",
   "metadata": {},
   "source": [
    "## Model 3 : Logistic Regression"
   ]
  },
  {
   "cell_type": "code",
   "execution_count": 29,
   "metadata": {},
   "outputs": [
    {
     "name": "stdout",
     "output_type": "stream",
     "text": [
      "Time elapsed for Logistic Regression:\n",
      "7.408481278\n",
      "Coefficients: [-0.009299137194955953,0.42357902310977014,0.14232755021304055,-0.5146269326383013,0.0015324687350704962,-0.026767105901604193,0.0,1.6663272847406811,-0.04688219128638983,-2.339670843245301E-4,0.046640357971853334,-0.00813522467861655,0.0,-1.6225770807533663E-4,-0.3681176527100077,0.0047480416239796324,-0.47658588190958,0.1424611096086889,-0.372395697085412,-1.5074815786892952E-4,-1.674406985704628E-6,0.17839695634722805,-0.09248191158320943,0.36784219050262185,-0.3832350541171057,0.0,-0.5704459484615695,-0.05502723147655583,-0.14945642576561902,-0.3442411477823203,0.050901666142816604,-0.10925609531985149,0.23456741623315727,-0.1694031559054676] Intercept: 5.710564307303949\n"
     ]
    }
   ],
   "source": [
    "import org.apache.spark.ml.classification.LogisticRegression\n",
    "val lr = new LogisticRegression().setLabelCol(\"label\").setFeaturesCol(\"features\")\n",
    "\n",
    "val startTime_lr = System.nanoTime()  \n",
    "\n",
    "val model_lr = lr.fit(train)\n",
    "\n",
    "val time_lr = (System.nanoTime() - startTime_lr) / 1e9\n",
    "\n",
    "println(\"Time elapsed for Logistic Regression:\")\n",
    "println(time_lr)\n",
    "\n",
    "println(s\"Coefficients: ${model_lr.coefficients} Intercept: ${model_lr.intercept}\")"
   ]
  },
  {
   "cell_type": "code",
   "execution_count": 30,
   "metadata": {},
   "outputs": [
    {
     "name": "stdout",
     "output_type": "stream",
     "text": [
      "+---+---------+-----------------+---------+--------------------+----------------+---------+----------------+-------------+--------------+-----------------------+------+----------+--------------+--------+--------------------+---------------+-------------+-------------+-----------+------------------+------+--------+-----------------+-----------------+------------------------+-------------+----------------+-----------------+---------------------+---------------+--------------+------------------+-----------------------+--------------------+-----+---------------------+-----------------+---------------------+-------------+--------------+--------------------+-------------+---------------+--------------------+--------------------+--------------------+----------+\n",
      "|Age|Attrition|   BusinessTravel|DailyRate|          Department|DistanceFromHome|Education|  EducationField|EmployeeCount|EmployeeNumber|EnvironmentSatisfaction|Gender|HourlyRate|JobInvolvement|JobLevel|             JobRole|JobSatisfaction|MaritalStatus|MonthlyIncome|MonthlyRate|NumCompaniesWorked|Over18|OverTime|PercentSalaryHike|PerformanceRating|RelationshipSatisfaction|StandardHours|StockOptionLevel|TotalWorkingYears|TrainingTimesLastYear|WorkLifeBalance|YearsAtCompany|YearsInCurrentRole|YearsSinceLastPromotion|YearsWithCurrManager|label|BusinessTravelIndexed|DepartmentIndexed|EducationFieldIndexed|GenderIndexed|JobRoleIndexed|MaritalStatusIndexed|Over18Indexed|OverTimeIndexed|            features|       rawPrediction|         probability|prediction|\n",
      "+---+---------+-----------------+---------+--------------------+----------------+---------+----------------+-------------+--------------+-----------------------+------+----------+--------------+--------+--------------------+---------------+-------------+-------------+-----------+------------------+------+--------+-----------------+-----------------+------------------------+-------------+----------------+-----------------+---------------------+---------------+--------------+------------------+-----------------------+--------------------+-----+---------------------+-----------------+---------------------+-------------+--------------+--------------------+-------------+---------------+--------------------+--------------------+--------------------+----------+\n",
      "| 18|       No|       Non-Travel|     1124|Research & Develo...|               1|        3|   Life Sciences|            1|          1368|                      4|Female|        97|             3|       1|Laboratory Techni...|              4|       Single|         1611|      19305|                 1|     Y|      No|               15|                3|                       3|           80|               0|                0|                    5|              4|             0|                 0|                      0|                   0|  0.0|                  2.0|              0.0|                  0.0|          1.0|           2.0|                 1.0|          0.0|            0.0|[2.0,0.0,0.0,1.0,...|[3.59618200996589...|[0.97330398135075...|       0.0|\n",
      "| 18|       No|    Travel_Rarely|      812|               Sales|              10|        3|         Medical|            1|           411|                      4|Female|        69|             2|       1|Sales Representative|              3|       Single|         1200|       9724|                 1|     Y|      No|               12|                3|                       1|           80|               0|                0|                    2|              3|             0|                 0|                      0|                   0|  0.0|                  0.0|              1.0|                  1.0|          1.0|           6.0|                 1.0|          0.0|            0.0|[0.0,1.0,1.0,1.0,...|[-0.2730569591718...|[0.43215677049066...|       1.0|\n",
      "| 19|       No|    Travel_Rarely|     1181|Research & Develo...|               3|        1|         Medical|            1|           201|                      2|Female|        79|             3|       1|Laboratory Techni...|              2|       Single|         1483|      16102|                 1|     Y|      No|               14|                3|                       4|           80|               0|                1|                    3|              3|             1|                 0|                      0|                   0|  0.0|                  0.0|              0.0|                  1.0|          1.0|           2.0|                 1.0|          0.0|            0.0|[0.0,0.0,1.0,1.0,...|[1.42807245824340...|[0.80660080475680...|       0.0|\n",
      "| 20|      Yes|Travel_Frequently|      769|               Sales|               9|        3|       Marketing|            1|          1077|                      4|Female|        54|             3|       1|Sales Representative|              4|       Single|         2323|      17205|                 1|     Y|     Yes|               14|                3|                       2|           80|               0|                2|                    3|              3|             2|                 2|                      0|                   2|  1.0|                  1.0|              1.0|                  2.0|          1.0|           6.0|                 1.0|          0.0|            1.0|[1.0,1.0,2.0,1.0,...|[0.55123869203500...|[0.63442292925176...|       0.0|\n",
      "| 20|      Yes|Travel_Frequently|      871|Research & Develo...|               6|        3|   Life Sciences|            1|           137|                      4|Female|        66|             2|       1|Laboratory Techni...|              4|       Single|         2926|      19783|                 1|     Y|     Yes|               18|                3|                       2|           80|               0|                1|                    5|              3|             1|                 0|                      1|                   0|  1.0|                  1.0|              0.0|                  0.0|          1.0|           2.0|                 1.0|          0.0|            1.0|[1.0,0.0,0.0,1.0,...|[0.71135055429030...|[0.67069951422970...|       0.0|\n",
      "| 20|      Yes|    Travel_Rarely|      129|Research & Develo...|               4|        3|Technical Degree|            1|           960|                      1|  Male|        84|             3|       1|Laboratory Techni...|              1|       Single|         2973|      13008|                 1|     Y|      No|               19|                3|                       2|           80|               0|                1|                    2|              3|             1|                 0|                      0|                   0|  1.0|                  0.0|              0.0|                  3.0|          0.0|           2.0|                 1.0|          0.0|            0.0|[0.0,0.0,3.0,0.0,...|[-0.4760134584175...|[0.38319392981553...|       1.0|\n",
      "| 20|      Yes|    Travel_Rarely|      500|               Sales|               2|        3|         Medical|            1|           922|                      3|Female|        49|             2|       1|Sales Representative|              3|       Single|         2044|      22052|                 1|     Y|      No|               13|                3|                       4|           80|               0|                2|                    3|              2|             2|                 2|                      0|                   2|  1.0|                  0.0|              1.0|                  1.0|          1.0|           6.0|                 1.0|          0.0|            0.0|[0.0,1.0,1.0,1.0,...|[1.69143494505963...|[0.84441277591250...|       0.0|\n",
      "| 21|       No|    Travel_Rarely|      546|Research & Develo...|               5|        1|         Medical|            1|          1623|                      3|  Male|        97|             3|       1|  Research Scientist|              4|       Single|         3117|      26009|                 1|     Y|      No|               18|                3|                       3|           80|               0|                3|                    2|              3|             2|                 2|                      2|                   2|  0.0|                  0.0|              0.0|                  1.0|          0.0|           1.0|                 1.0|          0.0|            0.0|[0.0,0.0,1.0,0.0,...|[2.27255079416543...|[0.90657804962917...|       0.0|\n",
      "| 21|       No|    Travel_Rarely|      996|Research & Develo...|               3|        2|         Medical|            1|           379|                      4|  Male|       100|             2|       1|  Research Scientist|              3|       Single|         3230|      10531|                 1|     Y|      No|               17|                3|                       1|           80|               0|                3|                    4|              4|             3|                 2|                      1|                   0|  0.0|                  0.0|              0.0|                  1.0|          0.0|           1.0|                 1.0|          0.0|            0.0|[0.0,0.0,1.0,0.0,...|[1.40247477102115...|[0.80257630368199...|       0.0|\n",
      "| 21|       No|    Travel_Rarely|     1343|               Sales|              22|        1|Technical Degree|            1|           669|                      3|  Male|        49|             3|       1|Sales Representative|              3|       Single|         3447|      24444|                 1|     Y|      No|               11|                3|                       3|           80|               0|                3|                    2|              3|             3|                 2|                      1|                   2|  0.0|                  0.0|              1.0|                  3.0|          0.0|           6.0|                 1.0|          0.0|            0.0|[0.0,1.0,3.0,0.0,...|[0.23437526917311...|[0.55832706071291...|       0.0|\n",
      "| 21|      Yes|Travel_Frequently|      756|               Sales|               1|        1|Technical Degree|            1|           478|                      1|Female|        99|             2|       1|Sales Representative|              2|       Single|         2174|       9150|                 1|     Y|     Yes|               11|                3|                       3|           80|               0|                3|                    3|              3|             3|                 2|                      1|                   2|  1.0|                  1.0|              1.0|                  3.0|          1.0|           6.0|                 1.0|          0.0|            1.0|[1.0,1.0,3.0,1.0,...|[-1.9875816543211...|[0.12051294676062...|       1.0|\n",
      "| 21|      Yes|    Travel_Rarely|      156|               Sales|              12|        3|   Life Sciences|            1|           494|                      3|Female|        90|             4|       1|Sales Representative|              2|       Single|         2716|      25422|                 1|     Y|      No|               15|                3|                       4|           80|               0|                1|                    0|              3|             1|                 0|                      0|                   0|  1.0|                  0.0|              1.0|                  0.0|          1.0|           6.0|                 1.0|          0.0|            0.0|[0.0,1.0,0.0,1.0,...|[1.27675363042447...|[0.78189666581787...|       0.0|\n",
      "| 22|       No|       Non-Travel|      457|Research & Develo...|              26|        2|           Other|            1|          1605|                      2|Female|        85|             2|       1|  Research Scientist|              3|      Married|         2814|      10293|                 1|     Y|     Yes|               14|                3|                       2|           80|               0|                4|                    2|              2|             4|                 2|                      1|                   3|  0.0|                  2.0|              0.0|                  4.0|          1.0|           1.0|                 0.0|          0.0|            1.0|[2.0,0.0,4.0,1.0,...|[-2.2347986319234...|[0.09666879376693...|       1.0|\n",
      "| 22|       No|    Travel_Rarely|      217|Research & Develo...|               8|        1|   Life Sciences|            1|          1019|                      2|  Male|        94|             1|       1|Laboratory Techni...|              1|      Married|         2451|       6881|                 1|     Y|      No|               15|                3|                       1|           80|               1|                4|                    3|              2|             4|                 3|                      1|                   1|  0.0|                  0.0|              0.0|                  0.0|          0.0|           2.0|                 0.0|          0.0|            0.0|[0.0,0.0,0.0,0.0,...|[-0.9787080138848...|[0.27314821715164...|       1.0|\n",
      "| 22|       No|    Travel_Rarely|      253|Research & Develo...|              11|        3|         Medical|            1|           511|                      1|Female|        43|             3|       1|  Research Scientist|              2|      Married|         2244|      24440|                 1|     Y|      No|               13|                3|                       4|           80|               1|                2|                    1|              3|             2|                 1|                      1|                   2|  0.0|                  0.0|              0.0|                  1.0|          1.0|           1.0|                 0.0|          0.0|            0.0|[0.0,0.0,1.0,1.0,...|[1.34797455668544...|[0.79379829572918...|       0.0|\n",
      "| 22|       No|    Travel_Rarely|      534|Research & Develo...|              15|        3|         Medical|            1|           144|                      2|Female|        59|             3|       1|Laboratory Techni...|              4|       Single|         2871|      23785|                 1|     Y|      No|               15|                3|                       3|           80|               0|                1|                    5|              3|             0|                 0|                      0|                   0|  0.0|                  0.0|              0.0|                  1.0|          1.0|           2.0|                 1.0|          0.0|            0.0|[0.0,0.0,1.0,1.0,...|[1.98559630666312...|[0.87927646849377...|       0.0|\n",
      "| 22|       No|    Travel_Rarely|      604|Research & Develo...|               6|        1|         Medical|            1|           675|                      1|  Male|        69|             3|       1|  Research Scientist|              3|      Married|         2773|      12145|                 0|     Y|      No|               20|                4|                       4|           80|               0|                3|                    3|              3|             2|                 2|                      2|                   2|  0.0|                  0.0|              0.0|                  1.0|          0.0|           1.0|                 0.0|          0.0|            0.0|[0.0,0.0,1.0,0.0,...|[1.58322819231680...|[0.82966122297702...|       0.0|\n",
      "| 22|      Yes|Travel_Frequently|     1256|Research & Develo...|               3|        4|   Life Sciences|            1|          1203|                      3|  Male|        48|             2|       1|  Research Scientist|              4|      Married|         2853|       4223|                 0|     Y|     Yes|               11|                3|                       2|           80|               1|                1|                    5|              3|             0|                 0|                      0|                   0|  1.0|                  1.0|              0.0|                  0.0|          0.0|           1.0|                 0.0|          0.0|            1.0|[1.0,0.0,0.0,0.0,...|[0.74358102432761...|[0.67777843080941...|       0.0|\n",
      "| 22|      Yes|    Travel_Rarely|      617|Research & Develo...|               3|        1|   Life Sciences|            1|           926|                      2|Female|        34|             3|       2|Manufacturing Dir...|              3|      Married|         4171|      10022|                 0|     Y|     Yes|               19|                3|                       1|           80|               1|                4|                    3|              4|             3|                 2|                      0|                   2|  1.0|                  0.0|              0.0|                  0.0|          1.0|           3.0|                 0.0|          0.0|            1.0|[0.0,0.0,0.0,1.0,...|[1.86711155291876...|[0.86612370616664...|       0.0|\n",
      "| 23|       No|    Travel_Rarely|      310|Research & Develo...|              10|        1|         Medical|            1|           784|                      1|  Male|        79|             4|       1|  Research Scientist|              3|       Single|         3505|      19630|                 1|     Y|      No|               18|                3|                       4|           80|               0|                2|                    3|              3|             2|                 2|                      0|                   2|  0.0|                  0.0|              0.0|                  1.0|          0.0|           1.0|                 1.0|          0.0|            0.0|[0.0,0.0,1.0,0.0,...|[2.38979089050275...|[0.91604548769466...|       0.0|\n",
      "+---+---------+-----------------+---------+--------------------+----------------+---------+----------------+-------------+--------------+-----------------------+------+----------+--------------+--------+--------------------+---------------+-------------+-------------+-----------+------------------+------+--------+-----------------+-----------------+------------------------+-------------+----------------+-----------------+---------------------+---------------+--------------+------------------+-----------------------+--------------------+-----+---------------------+-----------------+---------------------+-------------+--------------+--------------------+-------------+---------------+--------------------+--------------------+--------------------+----------+\n",
      "only showing top 20 rows\n",
      "\n"
     ]
    }
   ],
   "source": [
    "val predictions_lr=model_lr.transform(test)\n",
    "predictions_lr.show"
   ]
  },
  {
   "cell_type": "code",
   "execution_count": 31,
   "metadata": {
    "collapsed": true
   },
   "outputs": [],
   "source": [
    "val predictionBinary_lr = binarizer.transform(predictions_lr) "
   ]
  },
  {
   "cell_type": "code",
   "execution_count": 32,
   "metadata": {},
   "outputs": [
    {
     "name": "stdout",
     "output_type": "stream",
     "text": [
      "+-----+------+\n",
      "|label|Errors|\n",
      "+-----+------+\n",
      "|  0.0|     8|\n",
      "|  1.0|    56|\n",
      "+-----+------+\n",
      "\n"
     ]
    }
   ],
   "source": [
    "val wrongPredictions_lr = predictionBinary_lr.where(expr(\"label != prediction\"))\n",
    "val countErrors_lr = wrongPredictions_lr.groupBy(\"label\").agg(count(\"prediction\").alias(\"Errors\"))\n",
    "countErrors_lr.show"
   ]
  },
  {
   "cell_type": "code",
   "execution_count": 33,
   "metadata": {},
   "outputs": [
    {
     "name": "stdout",
     "output_type": "stream",
     "text": [
      "+-----+-------+\n",
      "|label|Correct|\n",
      "+-----+-------+\n",
      "|  0.0|    365|\n",
      "|  1.0|     23|\n",
      "+-----+-------+\n",
      "\n"
     ]
    }
   ],
   "source": [
    "val correctPredictions_lr = predictionBinary_lr.where(expr(\"label == prediction\"))\n",
    "val countCorrectPredictions_lr = correctPredictions_lr.groupBy(\"label\").agg(count(\"prediction\").alias(\"Correct\"))\n",
    "countCorrectPredictions_lr.show"
   ]
  },
  {
   "cell_type": "markdown",
   "metadata": {},
   "source": [
    "### Confusion Matrix and Accuracy (Logistic Regression)"
   ]
  },
  {
   "cell_type": "code",
   "execution_count": 34,
   "metadata": {},
   "outputs": [
    {
     "name": "stdout",
     "output_type": "stream",
     "text": [
      "Confusion matrix for Logistic Regression:\n",
      "365.0  8.0   \n",
      "56.0   23.0  \n",
      "Accuracy of Logistic Regression:\n",
      "0.8584070796460177\n"
     ]
    }
   ],
   "source": [
    "val selectMetrics_lr = predictions_lr.select(\"label\",\"prediction\")\n",
    "val rdd_lr = selectMetrics_lr.rdd.map(row => {\n",
    "      val label = row.getDouble(0)\n",
    "      val prediction = row.getDouble(1)\n",
    "      (prediction, label)\n",
    "    })\n",
    "val metrics_lr = new MulticlassMetrics(rdd_lr)\n",
    "println(\"Confusion matrix for Logistic Regression:\")\n",
    "val confusionMatrix_lr=metrics_lr.confusionMatrix\n",
    "println(confusionMatrix_lr)\n",
    "println(\"Accuracy of Logistic Regression:\")\n",
    "val accuracy_lr=metrics_lr.accuracy\n",
    "println(accuracy_lr)"
   ]
  },
  {
   "cell_type": "markdown",
   "metadata": {},
   "source": [
    "## Model 4 : Gradient Boosting Classifier"
   ]
  },
  {
   "cell_type": "code",
   "execution_count": 35,
   "metadata": {},
   "outputs": [
    {
     "name": "stdout",
     "output_type": "stream",
     "text": [
      "Time elapsed for Gradient Boost:\n",
      "12.39173124\n"
     ]
    }
   ],
   "source": [
    "import org.apache.spark.ml.classification.{GBTClassificationModel, GBTClassifier}\n",
    "val gbt = new GBTClassifier().setMaxIter(10).setLabelCol(\"label\").setFeaturesCol(\"features\")\n",
    "\n",
    "val startTime_gbt = System.nanoTime()  \n",
    "\n",
    "val model_gbt = gbt.fit(train)\n",
    "\n",
    "val time_gbt = (System.nanoTime() - startTime_gbt) / 1e9\n",
    "\n",
    "println(\"Time elapsed for Gradient Boost:\")\n",
    "println(time_gbt)"
   ]
  },
  {
   "cell_type": "code",
   "execution_count": 36,
   "metadata": {},
   "outputs": [
    {
     "name": "stdout",
     "output_type": "stream",
     "text": [
      "+---+---------+-----------------+---------+--------------------+----------------+---------+----------------+-------------+--------------+-----------------------+------+----------+--------------+--------+--------------------+---------------+-------------+-------------+-----------+------------------+------+--------+-----------------+-----------------+------------------------+-------------+----------------+-----------------+---------------------+---------------+--------------+------------------+-----------------------+--------------------+-----+---------------------+-----------------+---------------------+-------------+--------------+--------------------+-------------+---------------+--------------------+--------------------+--------------------+----------+\n",
      "|Age|Attrition|   BusinessTravel|DailyRate|          Department|DistanceFromHome|Education|  EducationField|EmployeeCount|EmployeeNumber|EnvironmentSatisfaction|Gender|HourlyRate|JobInvolvement|JobLevel|             JobRole|JobSatisfaction|MaritalStatus|MonthlyIncome|MonthlyRate|NumCompaniesWorked|Over18|OverTime|PercentSalaryHike|PerformanceRating|RelationshipSatisfaction|StandardHours|StockOptionLevel|TotalWorkingYears|TrainingTimesLastYear|WorkLifeBalance|YearsAtCompany|YearsInCurrentRole|YearsSinceLastPromotion|YearsWithCurrManager|label|BusinessTravelIndexed|DepartmentIndexed|EducationFieldIndexed|GenderIndexed|JobRoleIndexed|MaritalStatusIndexed|Over18Indexed|OverTimeIndexed|            features|       rawPrediction|         probability|prediction|\n",
      "+---+---------+-----------------+---------+--------------------+----------------+---------+----------------+-------------+--------------+-----------------------+------+----------+--------------+--------+--------------------+---------------+-------------+-------------+-----------+------------------+------+--------+-----------------+-----------------+------------------------+-------------+----------------+-----------------+---------------------+---------------+--------------+------------------+-----------------------+--------------------+-----+---------------------+-----------------+---------------------+-------------+--------------+--------------------+-------------+---------------+--------------------+--------------------+--------------------+----------+\n",
      "| 18|       No|       Non-Travel|     1124|Research & Develo...|               1|        3|   Life Sciences|            1|          1368|                      4|Female|        97|             3|       1|Laboratory Techni...|              4|       Single|         1611|      19305|                 1|     Y|      No|               15|                3|                       3|           80|               0|                0|                    5|              4|             0|                 0|                      0|                   0|  0.0|                  2.0|              0.0|                  0.0|          1.0|           2.0|                 1.0|          0.0|            0.0|[2.0,0.0,0.0,1.0,...|[-0.7611307913805...|[0.17912873123944...|       1.0|\n",
      "| 18|       No|    Travel_Rarely|      812|               Sales|              10|        3|         Medical|            1|           411|                      4|Female|        69|             2|       1|Sales Representative|              3|       Single|         1200|       9724|                 1|     Y|      No|               12|                3|                       1|           80|               0|                0|                    2|              3|             0|                 0|                      0|                   0|  0.0|                  0.0|              1.0|                  1.0|          1.0|           6.0|                 1.0|          0.0|            0.0|[0.0,1.0,1.0,1.0,...|[0.25595644386111...|[0.62525479283626...|       0.0|\n",
      "| 19|       No|    Travel_Rarely|     1181|Research & Develo...|               3|        1|         Medical|            1|           201|                      2|Female|        79|             3|       1|Laboratory Techni...|              2|       Single|         1483|      16102|                 1|     Y|      No|               14|                3|                       4|           80|               0|                1|                    3|              3|             1|                 0|                      0|                   0|  0.0|                  0.0|              0.0|                  1.0|          1.0|           2.0|                 1.0|          0.0|            0.0|[0.0,0.0,1.0,1.0,...|[-0.6368615313037...|[0.21862059135237...|       1.0|\n",
      "| 20|      Yes|Travel_Frequently|      769|               Sales|               9|        3|       Marketing|            1|          1077|                      4|Female|        54|             3|       1|Sales Representative|              4|       Single|         2323|      17205|                 1|     Y|     Yes|               14|                3|                       2|           80|               0|                2|                    3|              3|             2|                 2|                      0|                   2|  1.0|                  1.0|              1.0|                  2.0|          1.0|           6.0|                 1.0|          0.0|            1.0|[1.0,1.0,2.0,1.0,...|[-1.0214882038462...|[0.11476400229365...|       1.0|\n",
      "| 20|      Yes|Travel_Frequently|      871|Research & Develo...|               6|        3|   Life Sciences|            1|           137|                      4|Female|        66|             2|       1|Laboratory Techni...|              4|       Single|         2926|      19783|                 1|     Y|     Yes|               18|                3|                       2|           80|               0|                1|                    5|              3|             1|                 0|                      1|                   0|  1.0|                  1.0|              0.0|                  0.0|          1.0|           2.0|                 1.0|          0.0|            1.0|[1.0,0.0,0.0,1.0,...|[0.69914180509932...|[0.80191138214615...|       0.0|\n",
      "| 20|      Yes|    Travel_Rarely|      129|Research & Develo...|               4|        3|Technical Degree|            1|           960|                      1|  Male|        84|             3|       1|Laboratory Techni...|              1|       Single|         2973|      13008|                 1|     Y|      No|               19|                3|                       2|           80|               0|                1|                    2|              3|             1|                 0|                      0|                   0|  1.0|                  0.0|              0.0|                  3.0|          0.0|           2.0|                 1.0|          0.0|            0.0|[0.0,0.0,3.0,0.0,...|[-0.9763383844320...|[0.12426177700304...|       1.0|\n",
      "| 20|      Yes|    Travel_Rarely|      500|               Sales|               2|        3|         Medical|            1|           922|                      3|Female|        49|             2|       1|Sales Representative|              3|       Single|         2044|      22052|                 1|     Y|      No|               13|                3|                       4|           80|               0|                2|                    3|              2|             2|                 2|                      0|                   2|  1.0|                  0.0|              1.0|                  1.0|          1.0|           6.0|                 1.0|          0.0|            0.0|[0.0,1.0,1.0,1.0,...|[0.87105882230544...|[0.85095584597998...|       0.0|\n",
      "| 21|       No|    Travel_Rarely|      546|Research & Develo...|               5|        1|         Medical|            1|          1623|                      3|  Male|        97|             3|       1|  Research Scientist|              4|       Single|         3117|      26009|                 1|     Y|      No|               18|                3|                       3|           80|               0|                3|                    2|              3|             2|                 2|                      2|                   2|  0.0|                  0.0|              0.0|                  1.0|          0.0|           1.0|                 1.0|          0.0|            0.0|[0.0,0.0,1.0,0.0,...|[1.17824873063602...|[0.91344929661745...|       0.0|\n",
      "| 21|       No|    Travel_Rarely|      996|Research & Develo...|               3|        2|         Medical|            1|           379|                      4|  Male|       100|             2|       1|  Research Scientist|              3|       Single|         3230|      10531|                 1|     Y|      No|               17|                3|                       1|           80|               0|                3|                    4|              4|             3|                 2|                      1|                   0|  0.0|                  0.0|              0.0|                  1.0|          0.0|           1.0|                 1.0|          0.0|            0.0|[0.0,0.0,1.0,0.0,...|[0.72934391102777...|[0.81133189854525...|       0.0|\n",
      "| 21|       No|    Travel_Rarely|     1343|               Sales|              22|        1|Technical Degree|            1|           669|                      3|  Male|        49|             3|       1|Sales Representative|              3|       Single|         3447|      24444|                 1|     Y|      No|               11|                3|                       3|           80|               0|                3|                    2|              3|             3|                 2|                      1|                   2|  0.0|                  0.0|              1.0|                  3.0|          0.0|           6.0|                 1.0|          0.0|            0.0|[0.0,1.0,3.0,0.0,...|[0.69118152679256...|[0.79937024888191...|       0.0|\n",
      "| 21|      Yes|Travel_Frequently|      756|               Sales|               1|        1|Technical Degree|            1|           478|                      1|Female|        99|             2|       1|Sales Representative|              2|       Single|         2174|       9150|                 1|     Y|     Yes|               11|                3|                       3|           80|               0|                3|                    3|              3|             3|                 2|                      1|                   2|  1.0|                  1.0|              1.0|                  3.0|          1.0|           6.0|                 1.0|          0.0|            1.0|[1.0,1.0,3.0,1.0,...|[0.12660528585077...|[0.56296657361197...|       0.0|\n",
      "| 21|      Yes|    Travel_Rarely|      156|               Sales|              12|        3|   Life Sciences|            1|           494|                      3|Female|        90|             4|       1|Sales Representative|              2|       Single|         2716|      25422|                 1|     Y|      No|               15|                3|                       4|           80|               0|                1|                    0|              3|             1|                 0|                      0|                   0|  1.0|                  0.0|              1.0|                  0.0|          1.0|           6.0|                 1.0|          0.0|            0.0|[0.0,1.0,0.0,1.0,...|[0.86954356481983...|[0.85057107684673...|       0.0|\n",
      "| 22|       No|       Non-Travel|      457|Research & Develo...|              26|        2|           Other|            1|          1605|                      2|Female|        85|             2|       1|  Research Scientist|              3|      Married|         2814|      10293|                 1|     Y|     Yes|               14|                3|                       2|           80|               0|                4|                    2|              2|             4|                 2|                      1|                   3|  0.0|                  2.0|              0.0|                  4.0|          1.0|           1.0|                 0.0|          0.0|            1.0|[2.0,0.0,4.0,1.0,...|[0.70689311135314...|[0.80436244358657...|       0.0|\n",
      "| 22|       No|    Travel_Rarely|      217|Research & Develo...|               8|        1|   Life Sciences|            1|          1019|                      2|  Male|        94|             1|       1|Laboratory Techni...|              1|      Married|         2451|       6881|                 1|     Y|      No|               15|                3|                       1|           80|               1|                4|                    3|              2|             4|                 3|                      1|                   1|  0.0|                  0.0|              0.0|                  0.0|          0.0|           2.0|                 0.0|          0.0|            0.0|[0.0,0.0,0.0,0.0,...|[0.64699510605815...|[0.78482180819292...|       0.0|\n",
      "| 22|       No|    Travel_Rarely|      253|Research & Develo...|              11|        3|         Medical|            1|           511|                      1|Female|        43|             3|       1|  Research Scientist|              2|      Married|         2244|      24440|                 1|     Y|      No|               13|                3|                       4|           80|               1|                2|                    1|              3|             2|                 1|                      1|                   2|  0.0|                  0.0|              0.0|                  1.0|          1.0|           1.0|                 0.0|          0.0|            0.0|[0.0,0.0,1.0,1.0,...|[1.10080109845251...|[0.90039329645221...|       0.0|\n",
      "| 22|       No|    Travel_Rarely|      534|Research & Develo...|              15|        3|         Medical|            1|           144|                      2|Female|        59|             3|       1|Laboratory Techni...|              4|       Single|         2871|      23785|                 1|     Y|      No|               15|                3|                       3|           80|               0|                1|                    5|              3|             0|                 0|                      0|                   0|  0.0|                  0.0|              0.0|                  1.0|          1.0|           2.0|                 1.0|          0.0|            0.0|[0.0,0.0,1.0,1.0,...|[1.07157115845725...|[0.89502621132495...|       0.0|\n",
      "| 22|       No|    Travel_Rarely|      604|Research & Develo...|               6|        1|         Medical|            1|           675|                      1|  Male|        69|             3|       1|  Research Scientist|              3|      Married|         2773|      12145|                 0|     Y|      No|               20|                4|                       4|           80|               0|                3|                    3|              3|             2|                 2|                      2|                   2|  0.0|                  0.0|              0.0|                  1.0|          0.0|           1.0|                 0.0|          0.0|            0.0|[0.0,0.0,1.0,0.0,...|[1.19967358469168...|[0.91677750835965...|       0.0|\n",
      "| 22|      Yes|Travel_Frequently|     1256|Research & Develo...|               3|        4|   Life Sciences|            1|          1203|                      3|  Male|        48|             2|       1|  Research Scientist|              4|      Married|         2853|       4223|                 0|     Y|     Yes|               11|                3|                       2|           80|               1|                1|                    5|              3|             0|                 0|                      0|                   0|  1.0|                  1.0|              0.0|                  0.0|          0.0|           1.0|                 0.0|          0.0|            1.0|[1.0,0.0,0.0,0.0,...|[-0.9168283242025...|[0.13780323826914...|       1.0|\n",
      "| 22|      Yes|    Travel_Rarely|      617|Research & Develo...|               3|        1|   Life Sciences|            1|           926|                      2|Female|        34|             3|       2|Manufacturing Dir...|              3|      Married|         4171|      10022|                 0|     Y|     Yes|               19|                3|                       1|           80|               1|                4|                    3|              4|             3|                 2|                      0|                   2|  1.0|                  0.0|              0.0|                  0.0|          1.0|           3.0|                 0.0|          0.0|            1.0|[0.0,0.0,0.0,1.0,...|[1.22260051004304...|[0.92020980164906...|       0.0|\n",
      "| 23|       No|    Travel_Rarely|      310|Research & Develo...|              10|        1|         Medical|            1|           784|                      1|  Male|        79|             4|       1|  Research Scientist|              3|       Single|         3505|      19630|                 1|     Y|      No|               18|                3|                       4|           80|               0|                2|                    3|              3|             2|                 2|                      0|                   2|  0.0|                  0.0|              0.0|                  1.0|          0.0|           1.0|                 1.0|          0.0|            0.0|[0.0,0.0,1.0,0.0,...|[1.19900972403980...|[0.91667615178765...|       0.0|\n",
      "+---+---------+-----------------+---------+--------------------+----------------+---------+----------------+-------------+--------------+-----------------------+------+----------+--------------+--------+--------------------+---------------+-------------+-------------+-----------+------------------+------+--------+-----------------+-----------------+------------------------+-------------+----------------+-----------------+---------------------+---------------+--------------+------------------+-----------------------+--------------------+-----+---------------------+-----------------+---------------------+-------------+--------------+--------------------+-------------+---------------+--------------------+--------------------+--------------------+----------+\n",
      "only showing top 20 rows\n",
      "\n"
     ]
    }
   ],
   "source": [
    "val predictions_gbt=model_gbt.transform(test)\n",
    "predictions_gbt.show"
   ]
  },
  {
   "cell_type": "code",
   "execution_count": 37,
   "metadata": {
    "collapsed": true
   },
   "outputs": [],
   "source": [
    "val predictionBinary_gbt = binarizer.transform(predictions_gbt) "
   ]
  },
  {
   "cell_type": "code",
   "execution_count": 38,
   "metadata": {},
   "outputs": [
    {
     "name": "stdout",
     "output_type": "stream",
     "text": [
      "\r",
      "                                                                                \r",
      "+-----+------+\n",
      "|label|Errors|\n",
      "+-----+------+\n",
      "|  0.0|    20|\n",
      "|  1.0|    63|\n",
      "+-----+------+\n",
      "\n"
     ]
    }
   ],
   "source": [
    "val wrongPredictions_gbt = predictionBinary_gbt.where(expr(\"label != prediction\"))\n",
    "val countErrors_gbt = wrongPredictions_gbt.groupBy(\"label\").agg(count(\"prediction\").alias(\"Errors\"))\n",
    "countErrors_gbt.show"
   ]
  },
  {
   "cell_type": "code",
   "execution_count": 39,
   "metadata": {},
   "outputs": [
    {
     "name": "stdout",
     "output_type": "stream",
     "text": [
      "+-----+-------+\n",
      "|label|Correct|\n",
      "+-----+-------+\n",
      "|  0.0|    353|\n",
      "|  1.0|     16|\n",
      "+-----+-------+\n",
      "\n"
     ]
    }
   ],
   "source": [
    "val correctPredictions_gbt = predictionBinary_gbt.where(expr(\"label == prediction\"))\n",
    "val countCorrectPredictions_gbt = correctPredictions_gbt.groupBy(\"label\").agg(count(\"prediction\").alias(\"Correct\"))\n",
    "countCorrectPredictions_gbt.show"
   ]
  },
  {
   "cell_type": "markdown",
   "metadata": {},
   "source": [
    "### Confusion Matrix and Accuracy (Gradient Boosting Classifier)"
   ]
  },
  {
   "cell_type": "code",
   "execution_count": 40,
   "metadata": {},
   "outputs": [
    {
     "name": "stdout",
     "output_type": "stream",
     "text": [
      "Confusion matrix for Graident Boost:\n",
      "353.0  20.0  \n",
      "63.0   16.0  \n",
      "Accuracy of Gradient Boost:\n",
      "0.8163716814159292\n"
     ]
    }
   ],
   "source": [
    "val selectMetrics_gbt = predictions_gbt.select(\"label\",\"prediction\")\n",
    "val rdd_gbt = selectMetrics_gbt.rdd.map(row => {\n",
    "      val label = row.getDouble(0)\n",
    "      val prediction = row.getDouble(1)\n",
    "      (prediction, label)\n",
    "    })\n",
    "val metrics_gbt = new MulticlassMetrics(rdd_gbt)\n",
    "println(\"Confusion matrix for Graident Boost:\")\n",
    "val confusionMatrix_gbt=metrics_gbt.confusionMatrix\n",
    "println(confusionMatrix_gbt)\n",
    "println(\"Accuracy of Gradient Boost:\")\n",
    "val accuracy_gbt=metrics_gbt.accuracy\n",
    "println(accuracy_gbt)"
   ]
  },
  {
   "cell_type": "markdown",
   "metadata": {},
   "source": [
    "### Feature importance using Gradient Boosting Classifier"
   ]
  },
  {
   "cell_type": "markdown",
   "metadata": {},
   "source": [
    "The attribute _featureimportances_ tells us which features within the dataset has been given most importance through the Gradient Boost algorithm."
   ]
  },
  {
   "cell_type": "code",
   "execution_count": 41,
   "metadata": {
    "scrolled": true
   },
   "outputs": [
    {
     "name": "stdout",
     "output_type": "stream",
     "text": [
      "(DistanceFromHome,0.08807154582702811)\n",
      "(EmployeeNumber,0.07178474556931795)\n",
      "(TotalWorkingYears,0.06784182654645189)\n",
      "(OverTimeIndexed,0.05854200967073694)\n",
      "(MaritalStatusIndexed,0.049560483280007256)\n",
      "(JobLevel,0.044955550544568845)\n",
      "(GenderIndexed,0.044211455479200426)\n",
      "(DailyRate,0.0437967591508982)\n",
      "(RelationshipSatisfaction,0.04326101363033569)\n",
      "(MonthlyRate,0.03948794482914298)\n",
      "(StockOptionLevel,0.038564166727237885)\n",
      "(EnvironmentSatisfaction,0.03739888937700963)\n",
      "(YearsWithCurrManager,0.03587188681000141)\n",
      "(Over18Indexed,0.03568979909111555)\n",
      "(JobSatisfaction,0.03447600545292856)\n",
      "(NumCompaniesWorked,0.032864566454551644)\n",
      "(YearsSinceLastPromotion,0.031810773653429485)\n",
      "(EmployeeCount,0.03132051800157387)\n",
      "(TrainingTimesLastYear,0.030457024101781766)\n",
      "(JobRoleIndexed,0.028792228628401688)\n",
      "(PercentSalaryHike,0.026577788529632773)\n",
      "(WorkLifeBalance,0.02003349861832288)\n",
      "(YearsAtCompany,0.019816154638856318)\n",
      "(BusinessTravelIndexed,0.01536566487333132)\n",
      "(MonthlyIncome,0.00896696063830523)\n",
      "(Education,0.008356208794022454)\n",
      "(YearsInCurrentRole,0.006827897917512615)\n",
      "(HourlyRate,0.003581672091991294)\n",
      "(Age,0.0015452149912804933)\n",
      "(DepartmentIndexed,1.6974608102498343E-4)\n",
      "(EducationFieldIndexed,0.0)\n",
      "(JobInvolvement,0.0)\n",
      "(PerformanceRating,0.0)\n",
      "(StandardHours,0.0)\n"
     ]
    }
   ],
   "source": [
    "val importance_gbt=model_gbt.featureImportances\n",
    "val featuresArray=Array(\"BusinessTravelIndexed\",\"Age\",\"DailyRate\",\"DepartmentIndexed\",\"DistanceFromHome\",\"Education\",\"EducationFieldIndexed\",\"EmployeeCount\",\n",
    "\"EmployeeNumber\",\"EnvironmentSatisfaction\",\"GenderIndexed\",\"HourlyRate\",\"JobInvolvement\",\"JobLevel\",\"JobRoleIndexed\",\"JobSatisfaction\",\"MaritalStatusIndexed\",\n",
    "\"MonthlyIncome\",\"MonthlyRate\",\"NumCompaniesWorked\",\"Over18Indexed\",\"OverTimeIndexed\",\"PercentSalaryHike\",\"PerformanceRating\",\"RelationshipSatisfaction\",\n",
    "\"StandardHours\",\"StockOptionLevel\",\"TotalWorkingYears\",\"TrainingTimesLastYear\",\"WorkLifeBalance\",\"YearsAtCompany\",\"YearsInCurrentRole\",\"YearsSinceLastPromotion\",\n",
    "\"YearsWithCurrManager\")\n",
    "val features_importance_gbt = featuresArray.zip(importance_gbt.toArray).sortBy(-_._2)\n",
    "for (item <- features_importance_gbt)\n",
    "{\n",
    "    println(item)\n",
    "}"
   ]
  },
  {
   "cell_type": "markdown",
   "metadata": {},
   "source": [
    "<img src = \"./Importance_GBT.png\">"
   ]
  },
  {
   "cell_type": "markdown",
   "metadata": {},
   "source": [
    "We can see that \"Distance From Home\" was surprisingly considered as the most important feature by the Gradient Boosting algorithm while a seemingly more important feature like \"Performance Rating\" was given a ranking score of 0.\n",
    "\n",
    "_Note: The important features in the graphs are representative of one of our code runs._"
   ]
  },
  {
   "cell_type": "markdown",
   "metadata": {},
   "source": [
    "## Model 5 : Random Forest"
   ]
  },
  {
   "cell_type": "code",
   "execution_count": 42,
   "metadata": {},
   "outputs": [
    {
     "name": "stdout",
     "output_type": "stream",
     "text": [
      "Time elapsed for Random Forest:7.7940577\n"
     ]
    }
   ],
   "source": [
    "import org.apache.spark.ml.classification.{RandomForestClassificationModel, RandomForestClassifier}\n",
    "val rf = new RandomForestClassifier().setNumTrees(3).setLabelCol(\"label\").setFeaturesCol(\"features\")\n",
    "\n",
    "val startTime_rf = System.nanoTime()  \n",
    "\n",
    "val model_rf = rf.fit(train)\n",
    "\n",
    "val time_rf = (System.nanoTime() - startTime_rf) / 1e9\n",
    "\n",
    "println(\"Time elapsed for Random Forest:\")\n",
    "println(time_rf)"
   ]
  },
  {
   "cell_type": "code",
   "execution_count": 43,
   "metadata": {},
   "outputs": [
    {
     "name": "stdout",
     "output_type": "stream",
     "text": [
      "+---+---------+-----------------+---------+--------------------+----------------+---------+----------------+-------------+--------------+-----------------------+------+----------+--------------+--------+--------------------+---------------+-------------+-------------+-----------+------------------+------+--------+-----------------+-----------------+------------------------+-------------+----------------+-----------------+---------------------+---------------+--------------+------------------+-----------------------+--------------------+-----+---------------------+-----------------+---------------------+-------------+--------------+--------------------+-------------+---------------+--------------------+--------------------+--------------------+----------+\n",
      "|Age|Attrition|   BusinessTravel|DailyRate|          Department|DistanceFromHome|Education|  EducationField|EmployeeCount|EmployeeNumber|EnvironmentSatisfaction|Gender|HourlyRate|JobInvolvement|JobLevel|             JobRole|JobSatisfaction|MaritalStatus|MonthlyIncome|MonthlyRate|NumCompaniesWorked|Over18|OverTime|PercentSalaryHike|PerformanceRating|RelationshipSatisfaction|StandardHours|StockOptionLevel|TotalWorkingYears|TrainingTimesLastYear|WorkLifeBalance|YearsAtCompany|YearsInCurrentRole|YearsSinceLastPromotion|YearsWithCurrManager|label|BusinessTravelIndexed|DepartmentIndexed|EducationFieldIndexed|GenderIndexed|JobRoleIndexed|MaritalStatusIndexed|Over18Indexed|OverTimeIndexed|            features|       rawPrediction|         probability|prediction|\n",
      "+---+---------+-----------------+---------+--------------------+----------------+---------+----------------+-------------+--------------+-----------------------+------+----------+--------------+--------+--------------------+---------------+-------------+-------------+-----------+------------------+------+--------+-----------------+-----------------+------------------------+-------------+----------------+-----------------+---------------------+---------------+--------------+------------------+-----------------------+--------------------+-----+---------------------+-----------------+---------------------+-------------+--------------+--------------------+-------------+---------------+--------------------+--------------------+--------------------+----------+\n",
      "| 18|       No|       Non-Travel|     1124|Research & Develo...|               1|        3|   Life Sciences|            1|          1368|                      4|Female|        97|             3|       1|Laboratory Techni...|              4|       Single|         1611|      19305|                 1|     Y|      No|               15|                3|                       3|           80|               0|                0|                    5|              4|             0|                 0|                      0|                   0|  0.0|                  2.0|              0.0|                  0.0|          1.0|           2.0|                 1.0|          0.0|            0.0|[2.0,0.0,0.0,1.0,...|       [2.375,0.625]|[0.79166666666666...|       0.0|\n",
      "| 18|       No|    Travel_Rarely|      812|               Sales|              10|        3|         Medical|            1|           411|                      4|Female|        69|             2|       1|Sales Representative|              3|       Single|         1200|       9724|                 1|     Y|      No|               12|                3|                       1|           80|               0|                0|                    2|              3|             0|                 0|                      0|                   0|  0.0|                  0.0|              1.0|                  1.0|          1.0|           6.0|                 1.0|          0.0|            0.0|[0.0,1.0,1.0,1.0,...|[0.39038461538461...|[0.13012820512820...|       1.0|\n",
      "| 19|       No|    Travel_Rarely|     1181|Research & Develo...|               3|        1|         Medical|            1|           201|                      2|Female|        79|             3|       1|Laboratory Techni...|              2|       Single|         1483|      16102|                 1|     Y|      No|               14|                3|                       4|           80|               0|                1|                    3|              3|             1|                 0|                      0|                   0|  0.0|                  0.0|              0.0|                  1.0|          1.0|           2.0|                 1.0|          0.0|            0.0|[0.0,0.0,1.0,1.0,...|[1.3,1.7000000000...|[0.43333333333333...|       1.0|\n",
      "| 20|      Yes|Travel_Frequently|      769|               Sales|               9|        3|       Marketing|            1|          1077|                      4|Female|        54|             3|       1|Sales Representative|              4|       Single|         2323|      17205|                 1|     Y|     Yes|               14|                3|                       2|           80|               0|                2|                    3|              3|             2|                 2|                      0|                   2|  1.0|                  1.0|              1.0|                  2.0|          1.0|           6.0|                 1.0|          0.0|            1.0|[1.0,1.0,2.0,1.0,...|[2.87692307692307...|[0.95897435897435...|       0.0|\n",
      "| 20|      Yes|Travel_Frequently|      871|Research & Develo...|               6|        3|   Life Sciences|            1|           137|                      4|Female|        66|             2|       1|Laboratory Techni...|              4|       Single|         2926|      19783|                 1|     Y|     Yes|               18|                3|                       2|           80|               0|                1|                    5|              3|             1|                 0|                      1|                   0|  1.0|                  1.0|              0.0|                  0.0|          1.0|           2.0|                 1.0|          0.0|            1.0|[1.0,0.0,0.0,1.0,...|[1.38292682926829...|[0.46097560975609...|       1.0|\n",
      "| 20|      Yes|    Travel_Rarely|      129|Research & Develo...|               4|        3|Technical Degree|            1|           960|                      1|  Male|        84|             3|       1|Laboratory Techni...|              1|       Single|         2973|      13008|                 1|     Y|      No|               19|                3|                       2|           80|               0|                1|                    2|              3|             1|                 0|                      0|                   0|  1.0|                  0.0|              0.0|                  3.0|          0.0|           2.0|                 1.0|          0.0|            0.0|[0.0,0.0,3.0,0.0,...|[1.09642857142857...|[0.36547619047619...|       1.0|\n",
      "| 20|      Yes|    Travel_Rarely|      500|               Sales|               2|        3|         Medical|            1|           922|                      3|Female|        49|             2|       1|Sales Representative|              3|       Single|         2044|      22052|                 1|     Y|      No|               13|                3|                       4|           80|               0|                2|                    3|              2|             2|                 2|                      0|                   2|  1.0|                  0.0|              1.0|                  1.0|          1.0|           6.0|                 1.0|          0.0|            0.0|[0.0,1.0,1.0,1.0,...|[2.83692307692307...|[0.94564102564102...|       0.0|\n",
      "| 21|       No|    Travel_Rarely|      546|Research & Develo...|               5|        1|         Medical|            1|          1623|                      3|  Male|        97|             3|       1|  Research Scientist|              4|       Single|         3117|      26009|                 1|     Y|      No|               18|                3|                       3|           80|               0|                3|                    2|              3|             2|                 2|                      2|                   2|  0.0|                  0.0|              0.0|                  1.0|          0.0|           1.0|                 1.0|          0.0|            0.0|[0.0,0.0,1.0,0.0,...|[2.35236511456023...|[0.78412170485341...|       0.0|\n",
      "| 21|       No|    Travel_Rarely|      996|Research & Develo...|               3|        2|         Medical|            1|           379|                      4|  Male|       100|             2|       1|  Research Scientist|              3|       Single|         3230|      10531|                 1|     Y|      No|               17|                3|                       1|           80|               0|                3|                    4|              4|             3|                 2|                      1|                   0|  0.0|                  0.0|              0.0|                  1.0|          0.0|           1.0|                 1.0|          0.0|            0.0|[0.0,0.0,1.0,0.0,...|[2.75284130503642...|[0.91761376834547...|       0.0|\n",
      "| 21|       No|    Travel_Rarely|     1343|               Sales|              22|        1|Technical Degree|            1|           669|                      3|  Male|        49|             3|       1|Sales Representative|              3|       Single|         3447|      24444|                 1|     Y|      No|               11|                3|                       3|           80|               0|                3|                    2|              3|             3|                 2|                      1|                   2|  0.0|                  0.0|              1.0|                  3.0|          0.0|           6.0|                 1.0|          0.0|            0.0|[0.0,1.0,3.0,0.0,...|[2.39569844789356...|[0.79856614929785...|       0.0|\n",
      "| 21|      Yes|Travel_Frequently|      756|               Sales|               1|        1|Technical Degree|            1|           478|                      1|Female|        99|             2|       1|Sales Representative|              2|       Single|         2174|       9150|                 1|     Y|     Yes|               11|                3|                       3|           80|               0|                3|                    3|              3|             3|                 2|                      1|                   2|  1.0|                  1.0|              1.0|                  3.0|          1.0|           6.0|                 1.0|          0.0|            1.0|[1.0,1.0,3.0,1.0,...|[1.67057387057387...|[0.55685795685795...|       0.0|\n",
      "| 21|      Yes|    Travel_Rarely|      156|               Sales|              12|        3|   Life Sciences|            1|           494|                      3|Female|        90|             4|       1|Sales Representative|              2|       Single|         2716|      25422|                 1|     Y|      No|               15|                3|                       4|           80|               0|                1|                    0|              3|             1|                 0|                      0|                   0|  1.0|                  0.0|              1.0|                  0.0|          1.0|           6.0|                 1.0|          0.0|            0.0|[0.0,1.0,0.0,1.0,...|[2.03569844789357...|[0.67856614929785...|       0.0|\n",
      "| 22|       No|       Non-Travel|      457|Research & Develo...|              26|        2|           Other|            1|          1605|                      2|Female|        85|             2|       1|  Research Scientist|              3|      Married|         2814|      10293|                 1|     Y|     Yes|               14|                3|                       2|           80|               0|                4|                    2|              2|             4|                 2|                      1|                   3|  0.0|                  2.0|              0.0|                  4.0|          1.0|           1.0|                 0.0|          0.0|            1.0|[2.0,0.0,4.0,1.0,...|[1.68247863247863...|[0.56082621082621...|       0.0|\n",
      "| 22|       No|    Travel_Rarely|      217|Research & Develo...|               8|        1|   Life Sciences|            1|          1019|                      2|  Male|        94|             1|       1|Laboratory Techni...|              1|      Married|         2451|       6881|                 1|     Y|      No|               15|                3|                       1|           80|               1|                4|                    3|              2|             4|                 3|                      1|                   1|  0.0|                  0.0|              0.0|                  0.0|          0.0|           2.0|                 0.0|          0.0|            0.0|[0.0,0.0,0.0,0.0,...|[2.83692307692307...|[0.94564102564102...|       0.0|\n",
      "| 22|       No|    Travel_Rarely|      253|Research & Develo...|              11|        3|         Medical|            1|           511|                      1|Female|        43|             3|       1|  Research Scientist|              2|      Married|         2244|      24440|                 1|     Y|      No|               13|                3|                       4|           80|               1|                2|                    1|              3|             2|                 1|                      1|                   2|  0.0|                  0.0|              0.0|                  1.0|          1.0|           1.0|                 0.0|          0.0|            0.0|[0.0,0.0,1.0,1.0,...|         [2.46,0.54]|[0.82,0.180000000...|       0.0|\n",
      "| 22|       No|    Travel_Rarely|      534|Research & Develo...|              15|        3|         Medical|            1|           144|                      2|Female|        59|             3|       1|Laboratory Techni...|              4|       Single|         2871|      23785|                 1|     Y|      No|               15|                3|                       3|           80|               0|                1|                    5|              3|             0|                 0|                      0|                   0|  0.0|                  0.0|              0.0|                  1.0|          1.0|           2.0|                 1.0|          0.0|            0.0|[0.0,0.0,1.0,1.0,...|[2.43569844789356...|[0.81189948263118...|       0.0|\n",
      "| 22|       No|    Travel_Rarely|      604|Research & Develo...|               6|        1|         Medical|            1|           675|                      1|  Male|        69|             3|       1|  Research Scientist|              3|      Married|         2773|      12145|                 0|     Y|      No|               20|                4|                       4|           80|               0|                3|                    3|              3|             2|                 2|                      2|                   2|  0.0|                  0.0|              0.0|                  1.0|          0.0|           1.0|                 0.0|          0.0|            0.0|[0.0,0.0,1.0,0.0,...|[2.65835164835164...|[0.88611721611721...|       0.0|\n",
      "| 22|      Yes|Travel_Frequently|     1256|Research & Develo...|               3|        4|   Life Sciences|            1|          1203|                      3|  Male|        48|             2|       1|  Research Scientist|              4|      Married|         2853|       4223|                 0|     Y|     Yes|               11|                3|                       2|           80|               1|                1|                    5|              3|             0|                 0|                      0|                   0|  1.0|                  1.0|              0.0|                  0.0|          0.0|           1.0|                 0.0|          0.0|            1.0|[1.0,0.0,0.0,0.0,...|[1.68292682926829...|[0.56097560975609...|       0.0|\n",
      "| 22|      Yes|    Travel_Rarely|      617|Research & Develo...|               3|        1|   Life Sciences|            1|           926|                      2|Female|        34|             3|       2|Manufacturing Dir...|              3|      Married|         4171|      10022|                 0|     Y|     Yes|               19|                3|                       1|           80|               1|                4|                    3|              4|             3|                 2|                      0|                   2|  1.0|                  0.0|              0.0|                  0.0|          1.0|           3.0|                 0.0|          0.0|            1.0|[0.0,0.0,0.0,1.0,...|[2.33851890093500...|[0.77950630031166...|       0.0|\n",
      "| 23|       No|    Travel_Rarely|      310|Research & Develo...|              10|        1|         Medical|            1|           784|                      1|  Male|        79|             4|       1|  Research Scientist|              3|       Single|         3505|      19630|                 1|     Y|      No|               18|                3|                       4|           80|               0|                2|                    3|              3|             2|                 2|                      0|                   2|  0.0|                  0.0|              0.0|                  1.0|          0.0|           1.0|                 1.0|          0.0|            0.0|[0.0,0.0,1.0,0.0,...|[2.65835164835164...|[0.88611721611721...|       0.0|\n",
      "+---+---------+-----------------+---------+--------------------+----------------+---------+----------------+-------------+--------------+-----------------------+------+----------+--------------+--------+--------------------+---------------+-------------+-------------+-----------+------------------+------+--------+-----------------+-----------------+------------------------+-------------+----------------+-----------------+---------------------+---------------+--------------+------------------+-----------------------+--------------------+-----+---------------------+-----------------+---------------------+-------------+--------------+--------------------+-------------+---------------+--------------------+--------------------+--------------------+----------+\n",
      "only showing top 20 rows\n",
      "\n"
     ]
    }
   ],
   "source": [
    "val predictions_rf=model_rf.transform(test)\n",
    "predictions_rf.show"
   ]
  },
  {
   "cell_type": "code",
   "execution_count": 44,
   "metadata": {
    "collapsed": true
   },
   "outputs": [],
   "source": [
    "val predictionBinary_rf = binarizer.transform(predictions_rf) "
   ]
  },
  {
   "cell_type": "code",
   "execution_count": 45,
   "metadata": {},
   "outputs": [
    {
     "name": "stdout",
     "output_type": "stream",
     "text": [
      "\r",
      "                                                                                \r",
      "+-----+------+\n",
      "|label|Errors|\n",
      "+-----+------+\n",
      "|  0.0|    12|\n",
      "|  1.0|    69|\n",
      "+-----+------+\n",
      "\n"
     ]
    }
   ],
   "source": [
    "val wrongPredictions_rf = predictionBinary_rf.where(expr(\"label != prediction\"))\n",
    "val countErrors_rf = wrongPredictions_rf.groupBy(\"label\").agg(count(\"prediction\").alias(\"Errors\"))\n",
    "countErrors_rf.show"
   ]
  },
  {
   "cell_type": "code",
   "execution_count": 46,
   "metadata": {},
   "outputs": [
    {
     "name": "stdout",
     "output_type": "stream",
     "text": [
      "+-----+-------+\n",
      "|label|Correct|\n",
      "+-----+-------+\n",
      "|  0.0|    361|\n",
      "|  1.0|     10|\n",
      "+-----+-------+\n",
      "\n"
     ]
    }
   ],
   "source": [
    "val correctPredictions_rf = predictionBinary_rf.where(expr(\"label == prediction\"))\n",
    "val countCorrectPredictions_rf = correctPredictions_rf.groupBy(\"label\").agg(count(\"prediction\").alias(\"Correct\"))\n",
    "countCorrectPredictions_rf.show"
   ]
  },
  {
   "cell_type": "markdown",
   "metadata": {},
   "source": [
    "### Confusion Matrix and Accuracy (Random Forest)"
   ]
  },
  {
   "cell_type": "code",
   "execution_count": 47,
   "metadata": {},
   "outputs": [
    {
     "name": "stdout",
     "output_type": "stream",
     "text": [
      "Confusion matrix for Random Forest:\n",
      "361.0  12.0  \n",
      "69.0   10.0  \n",
      "Accuracy of Random Forest:\n",
      "0.8207964601769911\n"
     ]
    }
   ],
   "source": [
    "val selectMetrics_rf = predictions_rf.select(\"label\",\"prediction\")\n",
    "val rdd_rf = selectMetrics_rf.rdd.map(row => {\n",
    "      val label = row.getDouble(0)\n",
    "      val prediction = row.getDouble(1)\n",
    "      (prediction, label)\n",
    "    })\n",
    "val metrics_rf = new MulticlassMetrics(rdd_rf)\n",
    "println(\"Confusion matrix for Random Forest:\")\n",
    "val confusionMatrix_rf=metrics_rf.confusionMatrix\n",
    "println(confusionMatrix_rf)\n",
    "println(\"Accuracy of Random Forest:\")\n",
    "val accuracy_rf=metrics_rf.accuracy\n",
    "println(accuracy_rf)"
   ]
  },
  {
   "cell_type": "markdown",
   "metadata": {},
   "source": [
    "### Feature importance Using Random Forests"
   ]
  },
  {
   "cell_type": "markdown",
   "metadata": {},
   "source": [
    "The attribute _featureimportances_ tells us which features within the dataset have been given the most importance through the Random Forest algorithm. "
   ]
  },
  {
   "cell_type": "code",
   "execution_count": 48,
   "metadata": {
    "scrolled": true
   },
   "outputs": [
    {
     "name": "stdout",
     "output_type": "stream",
     "text": [
      "(WorkLifeBalance,0.15908513890749795)\n",
      "(EmployeeCount,0.13162427679523828)\n",
      "(MonthlyRate,0.0910567591546542)\n",
      "(EducationFieldIndexed,0.06949108676863479)\n",
      "(StockOptionLevel,0.054929823635365034)\n",
      "(EnvironmentSatisfaction,0.040655118440492716)\n",
      "(TotalWorkingYears,0.039486464630500234)\n",
      "(JobInvolvement,0.03850302765667773)\n",
      "(YearsSinceLastPromotion,0.038292760631400045)\n",
      "(DepartmentIndexed,0.03645982878634377)\n",
      "(DistanceFromHome,0.027759305103275945)\n",
      "(PerformanceRating,0.027596528011440972)\n",
      "(YearsAtCompany,0.02442944714185813)\n",
      "(AttritionIndexed,0.02426490536594534)\n",
      "(EmployeeNumber,0.02422868150466869)\n",
      "(Over18Indexed,0.02297201062831489)\n",
      "(NumCompaniesWorked,0.022495355415779992)\n",
      "(OverTimeIndexed,0.020141006289785636)\n",
      "(StandardHours,0.019813348502945447)\n",
      "(JobSatisfaction,0.01875481424480502)\n",
      "(MaritalStatusIndexed,0.017391044030827422)\n",
      "(MonthlyIncome,0.01632859141012572)\n",
      "(GenderIndexed,0.014573754294662252)\n",
      "(JobLevel,0.011831975394938788)\n",
      "(PercentSalaryHike,0.0047942645608633405)\n",
      "(DailyRate,0.0030406826929577795)\n",
      "(BusinessTravelIndexed,0.0)\n",
      "(DailyRate,0.0)\n",
      "(Education,0.0)\n",
      "(HourlyRate,0.0)\n",
      "(JobRoleIndexed,0.0)\n",
      "(RelationshipSatisfaction,0.0)\n",
      "(TrainingTimesLastYear,0.0)\n",
      "(YearsInCurrentRole,0.0)\n"
     ]
    }
   ],
   "source": [
    "val importance_rf=model_rf.featureImportances\n",
    "val featuresArray=Array(\"AttritionIndexed\",\"BusinessTravelIndexed\",\"DailyRate\",\"DailyRate\",\"DepartmentIndexed\",\"DistanceFromHome\",\"Education\",\"EducationFieldIndexed\",\"EmployeeCount\",\"EmployeeNumber\",\"EnvironmentSatisfaction\",\"GenderIndexed\",\"HourlyRate\",\"JobInvolvement\",\"JobLevel\",\"JobRoleIndexed\",\"JobSatisfaction\",\"MaritalStatusIndexed\",\"MonthlyIncome\",\"MonthlyRate\",\"NumCompaniesWorked\",\"Over18Indexed\",\"OverTimeIndexed\",\"PercentSalaryHike\",\"PerformanceRating\",\"RelationshipSatisfaction\",\"StandardHours\",\"StockOptionLevel\",\"TotalWorkingYears\",\"TrainingTimesLastYear\",\"WorkLifeBalance\",\"YearsAtCompany\",\"YearsInCurrentRole\",\"YearsSinceLastPromotion\",\"YearsWithCurrManager\")\n",
    "val features_importance_rf = featuresArray.zip(importance_rf.toArray).sortBy(-_._2)\n",
    "for (item <- features_importance_rf)\n",
    "{\n",
    "    println(item)\n",
    "}"
   ]
  },
  {
   "cell_type": "markdown",
   "metadata": {},
   "source": [
    "<img src = \"./Importance_RF.png\">"
   ]
  },
  {
   "cell_type": "markdown",
   "metadata": {},
   "source": [
    "Here, 'Education Field' of the employee was given the most importance followed by the feature 'Work Life Balance'.\n",
    "\n",
    "_Note: The important features in the graphs are representative of one of our code runs._"
   ]
  },
  {
   "cell_type": "markdown",
   "metadata": {},
   "source": [
    "## Model 6 : Linear Support Vector Machine"
   ]
  },
  {
   "cell_type": "code",
   "execution_count": 49,
   "metadata": {},
   "outputs": [
    {
     "name": "stdout",
     "output_type": "stream",
     "text": [
      "Time elapsed for Linear SVM:\n",
      "5.852784366\n"
     ]
    }
   ],
   "source": [
    "import org.apache.spark.ml.classification.LinearSVC\n",
    "\n",
    "val svm = new LinearSVC().setMaxIter(10).setRegParam(0.1).setLabelCol(\"label\").setFeaturesCol(\"features\")\n",
    "\n",
    "val startTime_svm = System.nanoTime()  \n",
    "\n",
    "val model_svm = lr.fit(train)\n",
    "\n",
    "val time_svm = (System.nanoTime() - startTime_svm) / 1e9\n",
    "\n",
    "println(\"Time elapsed for Linear SVM:\")\n",
    "println(time_svm)\n"
   ]
  },
  {
   "cell_type": "code",
   "execution_count": 50,
   "metadata": {
    "scrolled": true
   },
   "outputs": [
    {
     "name": "stdout",
     "output_type": "stream",
     "text": [
      "+---+---------+-----------------+---------+--------------------+----------------+---------+----------------+-------------+--------------+-----------------------+------+----------+--------------+--------+--------------------+---------------+-------------+-------------+-----------+------------------+------+--------+-----------------+-----------------+------------------------+-------------+----------------+-----------------+---------------------+---------------+--------------+------------------+-----------------------+--------------------+-----+---------------------+-----------------+---------------------+-------------+--------------+--------------------+-------------+---------------+--------------------+--------------------+--------------------+----------+\n",
      "|Age|Attrition|   BusinessTravel|DailyRate|          Department|DistanceFromHome|Education|  EducationField|EmployeeCount|EmployeeNumber|EnvironmentSatisfaction|Gender|HourlyRate|JobInvolvement|JobLevel|             JobRole|JobSatisfaction|MaritalStatus|MonthlyIncome|MonthlyRate|NumCompaniesWorked|Over18|OverTime|PercentSalaryHike|PerformanceRating|RelationshipSatisfaction|StandardHours|StockOptionLevel|TotalWorkingYears|TrainingTimesLastYear|WorkLifeBalance|YearsAtCompany|YearsInCurrentRole|YearsSinceLastPromotion|YearsWithCurrManager|label|BusinessTravelIndexed|DepartmentIndexed|EducationFieldIndexed|GenderIndexed|JobRoleIndexed|MaritalStatusIndexed|Over18Indexed|OverTimeIndexed|            features|       rawPrediction|         probability|prediction|\n",
      "+---+---------+-----------------+---------+--------------------+----------------+---------+----------------+-------------+--------------+-----------------------+------+----------+--------------+--------+--------------------+---------------+-------------+-------------+-----------+------------------+------+--------+-----------------+-----------------+------------------------+-------------+----------------+-----------------+---------------------+---------------+--------------+------------------+-----------------------+--------------------+-----+---------------------+-----------------+---------------------+-------------+--------------+--------------------+-------------+---------------+--------------------+--------------------+--------------------+----------+\n",
      "| 18|       No|       Non-Travel|     1124|Research & Develo...|               1|        3|   Life Sciences|            1|          1368|                      4|Female|        97|             3|       1|Laboratory Techni...|              4|       Single|         1611|      19305|                 1|     Y|      No|               15|                3|                       3|           80|               0|                0|                    5|              4|             0|                 0|                      0|                   0|  0.0|                  2.0|              0.0|                  0.0|          1.0|           2.0|                 1.0|          0.0|            0.0|[2.0,0.0,0.0,1.0,...|[3.59618200996589...|[0.97330398135075...|       0.0|\n",
      "| 18|       No|    Travel_Rarely|      812|               Sales|              10|        3|         Medical|            1|           411|                      4|Female|        69|             2|       1|Sales Representative|              3|       Single|         1200|       9724|                 1|     Y|      No|               12|                3|                       1|           80|               0|                0|                    2|              3|             0|                 0|                      0|                   0|  0.0|                  0.0|              1.0|                  1.0|          1.0|           6.0|                 1.0|          0.0|            0.0|[0.0,1.0,1.0,1.0,...|[-0.2730569591718...|[0.43215677049066...|       1.0|\n",
      "| 19|       No|    Travel_Rarely|     1181|Research & Develo...|               3|        1|         Medical|            1|           201|                      2|Female|        79|             3|       1|Laboratory Techni...|              2|       Single|         1483|      16102|                 1|     Y|      No|               14|                3|                       4|           80|               0|                1|                    3|              3|             1|                 0|                      0|                   0|  0.0|                  0.0|              0.0|                  1.0|          1.0|           2.0|                 1.0|          0.0|            0.0|[0.0,0.0,1.0,1.0,...|[1.42807245824340...|[0.80660080475680...|       0.0|\n",
      "| 20|      Yes|Travel_Frequently|      769|               Sales|               9|        3|       Marketing|            1|          1077|                      4|Female|        54|             3|       1|Sales Representative|              4|       Single|         2323|      17205|                 1|     Y|     Yes|               14|                3|                       2|           80|               0|                2|                    3|              3|             2|                 2|                      0|                   2|  1.0|                  1.0|              1.0|                  2.0|          1.0|           6.0|                 1.0|          0.0|            1.0|[1.0,1.0,2.0,1.0,...|[0.55123869203500...|[0.63442292925176...|       0.0|\n",
      "| 20|      Yes|Travel_Frequently|      871|Research & Develo...|               6|        3|   Life Sciences|            1|           137|                      4|Female|        66|             2|       1|Laboratory Techni...|              4|       Single|         2926|      19783|                 1|     Y|     Yes|               18|                3|                       2|           80|               0|                1|                    5|              3|             1|                 0|                      1|                   0|  1.0|                  1.0|              0.0|                  0.0|          1.0|           2.0|                 1.0|          0.0|            1.0|[1.0,0.0,0.0,1.0,...|[0.71135055429030...|[0.67069951422970...|       0.0|\n",
      "| 20|      Yes|    Travel_Rarely|      129|Research & Develo...|               4|        3|Technical Degree|            1|           960|                      1|  Male|        84|             3|       1|Laboratory Techni...|              1|       Single|         2973|      13008|                 1|     Y|      No|               19|                3|                       2|           80|               0|                1|                    2|              3|             1|                 0|                      0|                   0|  1.0|                  0.0|              0.0|                  3.0|          0.0|           2.0|                 1.0|          0.0|            0.0|[0.0,0.0,3.0,0.0,...|[-0.4760134584175...|[0.38319392981553...|       1.0|\n",
      "| 20|      Yes|    Travel_Rarely|      500|               Sales|               2|        3|         Medical|            1|           922|                      3|Female|        49|             2|       1|Sales Representative|              3|       Single|         2044|      22052|                 1|     Y|      No|               13|                3|                       4|           80|               0|                2|                    3|              2|             2|                 2|                      0|                   2|  1.0|                  0.0|              1.0|                  1.0|          1.0|           6.0|                 1.0|          0.0|            0.0|[0.0,1.0,1.0,1.0,...|[1.69143494505963...|[0.84441277591250...|       0.0|\n",
      "| 21|       No|    Travel_Rarely|      546|Research & Develo...|               5|        1|         Medical|            1|          1623|                      3|  Male|        97|             3|       1|  Research Scientist|              4|       Single|         3117|      26009|                 1|     Y|      No|               18|                3|                       3|           80|               0|                3|                    2|              3|             2|                 2|                      2|                   2|  0.0|                  0.0|              0.0|                  1.0|          0.0|           1.0|                 1.0|          0.0|            0.0|[0.0,0.0,1.0,0.0,...|[2.27255079416543...|[0.90657804962917...|       0.0|\n",
      "| 21|       No|    Travel_Rarely|      996|Research & Develo...|               3|        2|         Medical|            1|           379|                      4|  Male|       100|             2|       1|  Research Scientist|              3|       Single|         3230|      10531|                 1|     Y|      No|               17|                3|                       1|           80|               0|                3|                    4|              4|             3|                 2|                      1|                   0|  0.0|                  0.0|              0.0|                  1.0|          0.0|           1.0|                 1.0|          0.0|            0.0|[0.0,0.0,1.0,0.0,...|[1.40247477102115...|[0.80257630368199...|       0.0|\n",
      "| 21|       No|    Travel_Rarely|     1343|               Sales|              22|        1|Technical Degree|            1|           669|                      3|  Male|        49|             3|       1|Sales Representative|              3|       Single|         3447|      24444|                 1|     Y|      No|               11|                3|                       3|           80|               0|                3|                    2|              3|             3|                 2|                      1|                   2|  0.0|                  0.0|              1.0|                  3.0|          0.0|           6.0|                 1.0|          0.0|            0.0|[0.0,1.0,3.0,0.0,...|[0.23437526917311...|[0.55832706071291...|       0.0|\n",
      "| 21|      Yes|Travel_Frequently|      756|               Sales|               1|        1|Technical Degree|            1|           478|                      1|Female|        99|             2|       1|Sales Representative|              2|       Single|         2174|       9150|                 1|     Y|     Yes|               11|                3|                       3|           80|               0|                3|                    3|              3|             3|                 2|                      1|                   2|  1.0|                  1.0|              1.0|                  3.0|          1.0|           6.0|                 1.0|          0.0|            1.0|[1.0,1.0,3.0,1.0,...|[-1.9875816543211...|[0.12051294676062...|       1.0|\n",
      "| 21|      Yes|    Travel_Rarely|      156|               Sales|              12|        3|   Life Sciences|            1|           494|                      3|Female|        90|             4|       1|Sales Representative|              2|       Single|         2716|      25422|                 1|     Y|      No|               15|                3|                       4|           80|               0|                1|                    0|              3|             1|                 0|                      0|                   0|  1.0|                  0.0|              1.0|                  0.0|          1.0|           6.0|                 1.0|          0.0|            0.0|[0.0,1.0,0.0,1.0,...|[1.27675363042447...|[0.78189666581787...|       0.0|\n",
      "| 22|       No|       Non-Travel|      457|Research & Develo...|              26|        2|           Other|            1|          1605|                      2|Female|        85|             2|       1|  Research Scientist|              3|      Married|         2814|      10293|                 1|     Y|     Yes|               14|                3|                       2|           80|               0|                4|                    2|              2|             4|                 2|                      1|                   3|  0.0|                  2.0|              0.0|                  4.0|          1.0|           1.0|                 0.0|          0.0|            1.0|[2.0,0.0,4.0,1.0,...|[-2.2347986319234...|[0.09666879376693...|       1.0|\n",
      "| 22|       No|    Travel_Rarely|      217|Research & Develo...|               8|        1|   Life Sciences|            1|          1019|                      2|  Male|        94|             1|       1|Laboratory Techni...|              1|      Married|         2451|       6881|                 1|     Y|      No|               15|                3|                       1|           80|               1|                4|                    3|              2|             4|                 3|                      1|                   1|  0.0|                  0.0|              0.0|                  0.0|          0.0|           2.0|                 0.0|          0.0|            0.0|[0.0,0.0,0.0,0.0,...|[-0.9787080138848...|[0.27314821715164...|       1.0|\n",
      "| 22|       No|    Travel_Rarely|      253|Research & Develo...|              11|        3|         Medical|            1|           511|                      1|Female|        43|             3|       1|  Research Scientist|              2|      Married|         2244|      24440|                 1|     Y|      No|               13|                3|                       4|           80|               1|                2|                    1|              3|             2|                 1|                      1|                   2|  0.0|                  0.0|              0.0|                  1.0|          1.0|           1.0|                 0.0|          0.0|            0.0|[0.0,0.0,1.0,1.0,...|[1.34797455668544...|[0.79379829572918...|       0.0|\n",
      "| 22|       No|    Travel_Rarely|      534|Research & Develo...|              15|        3|         Medical|            1|           144|                      2|Female|        59|             3|       1|Laboratory Techni...|              4|       Single|         2871|      23785|                 1|     Y|      No|               15|                3|                       3|           80|               0|                1|                    5|              3|             0|                 0|                      0|                   0|  0.0|                  0.0|              0.0|                  1.0|          1.0|           2.0|                 1.0|          0.0|            0.0|[0.0,0.0,1.0,1.0,...|[1.98559630666312...|[0.87927646849377...|       0.0|\n",
      "| 22|       No|    Travel_Rarely|      604|Research & Develo...|               6|        1|         Medical|            1|           675|                      1|  Male|        69|             3|       1|  Research Scientist|              3|      Married|         2773|      12145|                 0|     Y|      No|               20|                4|                       4|           80|               0|                3|                    3|              3|             2|                 2|                      2|                   2|  0.0|                  0.0|              0.0|                  1.0|          0.0|           1.0|                 0.0|          0.0|            0.0|[0.0,0.0,1.0,0.0,...|[1.58322819231680...|[0.82966122297702...|       0.0|\n",
      "| 22|      Yes|Travel_Frequently|     1256|Research & Develo...|               3|        4|   Life Sciences|            1|          1203|                      3|  Male|        48|             2|       1|  Research Scientist|              4|      Married|         2853|       4223|                 0|     Y|     Yes|               11|                3|                       2|           80|               1|                1|                    5|              3|             0|                 0|                      0|                   0|  1.0|                  1.0|              0.0|                  0.0|          0.0|           1.0|                 0.0|          0.0|            1.0|[1.0,0.0,0.0,0.0,...|[0.74358102432761...|[0.67777843080941...|       0.0|\n",
      "| 22|      Yes|    Travel_Rarely|      617|Research & Develo...|               3|        1|   Life Sciences|            1|           926|                      2|Female|        34|             3|       2|Manufacturing Dir...|              3|      Married|         4171|      10022|                 0|     Y|     Yes|               19|                3|                       1|           80|               1|                4|                    3|              4|             3|                 2|                      0|                   2|  1.0|                  0.0|              0.0|                  0.0|          1.0|           3.0|                 0.0|          0.0|            1.0|[0.0,0.0,0.0,1.0,...|[1.86711155291876...|[0.86612370616664...|       0.0|\n",
      "| 23|       No|    Travel_Rarely|      310|Research & Develo...|              10|        1|         Medical|            1|           784|                      1|  Male|        79|             4|       1|  Research Scientist|              3|       Single|         3505|      19630|                 1|     Y|      No|               18|                3|                       4|           80|               0|                2|                    3|              3|             2|                 2|                      0|                   2|  0.0|                  0.0|              0.0|                  1.0|          0.0|           1.0|                 1.0|          0.0|            0.0|[0.0,0.0,1.0,0.0,...|[2.38979089050275...|[0.91604548769466...|       0.0|\n",
      "+---+---------+-----------------+---------+--------------------+----------------+---------+----------------+-------------+--------------+-----------------------+------+----------+--------------+--------+--------------------+---------------+-------------+-------------+-----------+------------------+------+--------+-----------------+-----------------+------------------------+-------------+----------------+-----------------+---------------------+---------------+--------------+------------------+-----------------------+--------------------+-----+---------------------+-----------------+---------------------+-------------+--------------+--------------------+-------------+---------------+--------------------+--------------------+--------------------+----------+\n",
      "only showing top 20 rows\n",
      "\n"
     ]
    }
   ],
   "source": [
    "val predictions_svm=model_svm.transform(test)\n",
    "predictions_svm.show"
   ]
  },
  {
   "cell_type": "code",
   "execution_count": 51,
   "metadata": {
    "collapsed": true
   },
   "outputs": [],
   "source": [
    "val predictionBinary_svm = binarizer.transform(predictions_svm) "
   ]
  },
  {
   "cell_type": "code",
   "execution_count": 52,
   "metadata": {},
   "outputs": [
    {
     "name": "stdout",
     "output_type": "stream",
     "text": [
      "+-----+------+\n",
      "|label|Errors|\n",
      "+-----+------+\n",
      "|  0.0|     8|\n",
      "|  1.0|    56|\n",
      "+-----+------+\n",
      "\n"
     ]
    }
   ],
   "source": [
    "val wrongPredictions_svm = predictionBinary_svm.where(expr(\"label != prediction\"))\n",
    "val countErrors_svm = wrongPredictions_svm.groupBy(\"label\").agg(count(\"prediction\").alias(\"Errors\"))\n",
    "countErrors_svm.show"
   ]
  },
  {
   "cell_type": "code",
   "execution_count": 53,
   "metadata": {},
   "outputs": [
    {
     "name": "stdout",
     "output_type": "stream",
     "text": [
      "+-----+-------+\n",
      "|label|Correct|\n",
      "+-----+-------+\n",
      "|  0.0|    365|\n",
      "|  1.0|     23|\n",
      "+-----+-------+\n",
      "\n"
     ]
    }
   ],
   "source": [
    "val correctPredictions_svm = predictionBinary_svm.where(expr(\"label == prediction\"))\n",
    "val countCorrectPredictions_svm = correctPredictions_svm.groupBy(\"label\").agg(count(\"prediction\").alias(\"Correct\"))\n",
    "countCorrectPredictions_svm.show"
   ]
  },
  {
   "cell_type": "markdown",
   "metadata": {},
   "source": [
    "### Confusion Matrix and Accuracy (Linear Support Vector Machine)"
   ]
  },
  {
   "cell_type": "code",
   "execution_count": 54,
   "metadata": {},
   "outputs": [
    {
     "name": "stdout",
     "output_type": "stream",
     "text": [
      "Confusion matrix for Linnear SVM:\n",
      "365.0  8.0   \n",
      "56.0   23.0  \n",
      "Accuracy of Linear SVM:\n",
      "0.8584070796460177\n"
     ]
    }
   ],
   "source": [
    "val selectMetrics_svm = predictions_svm.select(\"label\",\"prediction\")\n",
    "val rdd_svm = selectMetrics_svm.rdd.map(row => {\n",
    "      val label = row.getDouble(0)\n",
    "      val prediction = row.getDouble(1)\n",
    "      (prediction, label)\n",
    "    })\n",
    "val metrics_svm = new MulticlassMetrics(rdd_svm)\n",
    "println(\"Confusion matrix for Linnear SVM:\")\n",
    "val confusionMatrix_svm=metrics_svm.confusionMatrix\n",
    "println(confusionMatrix_svm)\n",
    "println(\"Accuracy of Linear SVM:\")\n",
    "val accuracy_svm=metrics_svm.accuracy\n",
    "println(accuracy_svm)"
   ]
  },
  {
   "cell_type": "markdown",
   "metadata": {},
   "source": [
    "##  4. Parameter Tuning with Cross-Validation Pipelining over a Parameter Grid\n",
    "\n",
    "We also performed cross-validation over a grid of parameters for a few models and evaluated them. We saw an improvement in the accuracy for two of the models, Random Forest and Gradient Boosting (shown below). However, we observed that the accuracy of other models did not improve when cross-validation pipeline model was applied.<br>\n",
    "\n",
    "To perform cross-validation pipelining, firstly we determined the most useful features using feature importance as shown in the above methods. The top features (with feature importances value greater than 0.0) were used as inputs to the Vector Slicer which picks out these most important features. We then used a StandardScaler so that all features are on a similar scale. We set the number of folds to 10 for the cross validation.<br>\n",
    "We selected from a grid of hyperparameters for fine-tuning the model and computed the time elapsed, accuracy and confusion matrices for the two models."
   ]
  },
  {
   "cell_type": "markdown",
   "metadata": {},
   "source": [
    "### 4.1. Random Forest Model with Pipeline"
   ]
  },
  {
   "cell_type": "code",
   "execution_count": 55,
   "metadata": {
    "collapsed": true
   },
   "outputs": [],
   "source": [
    "import org.apache.spark.ml.feature.VectorSlicer\n",
    "import org.apache.spark.ml.Pipeline\n",
    "import org.apache.spark.ml.feature.StandardScaler\n",
    "\n",
    "val slicer = new VectorSlicer().setInputCol(\"features\").setOutputCol(\"slicedfeatures\").setNames(Array(\"EducationFieldIndexed\",\"WorkLifeBalance\",\"JobLevel\",\"EmployeeCount\",\"YearsSinceLastPromotion\",\"JobSatisfaction\",\"MonthlyRate\",\"DailyRate\",\n",
    "\"TotalWorkingYears\",\"JobInvolvement\",\"EmployeeNumber\",\"StandardHours\",\"StockOptionLevel\",\"PerformanceRating\",\"Over18Indexed\",\"EnvironmentSatisfaction\",\n",
    "\"MonthlyIncome\",\"JobRoleIndexed\",\"BusinessTravelIndexed\",\"OverTimeIndexed\",\"DepartmentIndexed\",\"NumCompaniesWorked\",\"DistanceFromHome\",\n",
    "\"GenderIndexed\",\"YearsAtCompany\",\"MaritalStatusIndexed\"))       "
   ]
  },
  {
   "cell_type": "code",
   "execution_count": 56,
   "metadata": {
    "collapsed": true
   },
   "outputs": [],
   "source": [
    "val scaler = new StandardScaler().setInputCol(\"slicedfeatures\").setOutputCol(\"scaledfeatures\").setWithStd(true).setWithMean(true)             \n",
    "\n",
    "val rf_ParamGrid = new RandomForestClassifier().setLabelCol(\"label\").setFeaturesCol(\"scaledfeatures\")\n",
    "\n",
    "val rfPipeline = new Pipeline().setStages(Array(slicer, scaler, rf_ParamGrid))"
   ]
  },
  {
   "cell_type": "code",
   "execution_count": 57,
   "metadata": {},
   "outputs": [
    {
     "name": "stdout",
     "output_type": "stream",
     "text": [
      "Time elapsed using Random Forest with Pipelining:\n",
      "527.255371721\n"
     ]
    }
   ],
   "source": [
    "import org.apache.spark.ml.evaluation.BinaryClassificationEvaluator\n",
    "import org.apache.spark.ml.feature.{HashingTF, Tokenizer}\n",
    "import org.apache.spark.ml.linalg.Vector\n",
    "import org.apache.spark.ml.tuning.{CrossValidator, ParamGridBuilder}\n",
    "import org.apache.spark.sql.Row\n",
    "\n",
    "val paramGrid_rf = new ParamGridBuilder().addGrid(rf_ParamGrid.maxBins, Array(25, 28, 31)).addGrid(rf_ParamGrid.maxDepth, Array(4, 6, 8)).addGrid(rf_ParamGrid.impurity, Array(\"entropy\", \"gini\")).build()               \n",
    "\n",
    "val evaluator_rf = new BinaryClassificationEvaluator().setLabelCol(\"label\").setMetricName(\"areaUnderPR\")\n",
    "\n",
    "val cv_rf = new CrossValidator().setEstimator(rfPipeline).setEvaluator(evaluator_rf).setEstimatorParamMaps(paramGrid_rf).setNumFolds(10)\n",
    "\n",
    "val startTime_rf = System.nanoTime()  \n",
    "\n",
    "val crossValidatorModel_rf = cv_rf.fit(train)\n",
    "\n",
    "val rfPipeTime = (System.nanoTime() - startTime_rf) / 1e9\n",
    "\n",
    "println(\"Time elapsed using Random Forest with Pipelining:\")\n",
    "println(rfPipeTime)"
   ]
  },
  {
   "cell_type": "code",
   "execution_count": 58,
   "metadata": {},
   "outputs": [
    {
     "data": {
      "text/plain": [
       "estimator: estimator for selection (current: pipeline_906fbe1d21f9)\n",
       "estimatorParamMaps: param maps for the estimator (current: [Lorg.apache.spark.ml.param.ParamMap;@4fb88e83)\n",
       "evaluator: evaluator used to select hyper-parameters that maximize the validated metric (current: binEval_45551b225a25)\n",
       "numFolds: number of folds for cross validation (>= 2) (default: 3, current: 10)\n",
       "seed: random seed (default: -1191137437)"
      ]
     },
     "execution_count": 58,
     "metadata": {},
     "output_type": "execute_result"
    }
   ],
   "source": [
    "val predictions_rf_ParamGrid = crossValidatorModel_rf.transform(test)\n",
    "crossValidatorModel_rf.explainParams()"
   ]
  },
  {
   "cell_type": "code",
   "execution_count": 59,
   "metadata": {},
   "outputs": [
    {
     "name": "stdout",
     "output_type": "stream",
     "text": [
      "+-----+------+\n",
      "|label|Errors|\n",
      "+-----+------+\n",
      "|  0.0|     5|\n",
      "|  1.0|    75|\n",
      "+-----+------+\n",
      "\n",
      "+-----+-------+\n",
      "|label|Correct|\n",
      "+-----+-------+\n",
      "|  0.0|    368|\n",
      "|  1.0|      4|\n",
      "+-----+-------+\n",
      "\n"
     ]
    }
   ],
   "source": [
    "val predictionBinary_rf_ParamGrid = binarizer.transform(predictions_rf_ParamGrid) \n",
    "\n",
    "val wrongPredictions_rf_ParamGrid = predictionBinary_rf_ParamGrid.where(expr(\"label != prediction\"))\n",
    "val countErrors_rf_ParamGrid = wrongPredictions_rf_ParamGrid.groupBy(\"label\").agg(count(\"prediction\").alias(\"Errors\"))\n",
    "countErrors_rf_ParamGrid.show\n",
    "\n",
    "val correctPredictions_rf_ParamGrid = predictionBinary_rf_ParamGrid.where(expr(\"label == prediction\"))\n",
    "val countCorrectPredictions_rf_ParamGrid = correctPredictions_rf_ParamGrid.groupBy(\"label\").agg(count(\"prediction\").alias(\"Correct\"))\n",
    "countCorrectPredictions_rf_ParamGrid.show"
   ]
  },
  {
   "cell_type": "markdown",
   "metadata": {},
   "source": [
    "### Confusion Matrix and Accuracy (Random Forest Pipeline)"
   ]
  },
  {
   "cell_type": "code",
   "execution_count": 60,
   "metadata": {},
   "outputs": [
    {
     "name": "stdout",
     "output_type": "stream",
     "text": [
      "Confusion matrix for Random Forests using Pipelining:\n",
      "368.0  5.0  \n",
      "75.0   4.0  \n",
      "Accuracy of Random Forests using Pipelining:\n",
      "0.8230088495575221\n"
     ]
    }
   ],
   "source": [
    "val selectMetrics_rf_ParamGrid = predictions_rf_ParamGrid.select(\"label\",\"prediction\")\n",
    "val rdd_rf_ParamGrid = selectMetrics_rf_ParamGrid.rdd.map(row => {\n",
    "      val label = row.getDouble(0)\n",
    "      val prediction = row.getDouble(1)\n",
    "      (prediction, label)\n",
    "    })\n",
    "val metrics_rf_ParamGrid = new MulticlassMetrics(rdd_rf_ParamGrid)\n",
    "println(\"Confusion matrix for Random Forests using Pipelining:\")\n",
    "val confusionMatrix_rf_ParamGrid=metrics_rf_ParamGrid.confusionMatrix\n",
    "println(confusionMatrix_rf_ParamGrid)\n",
    "println(\"Accuracy of Random Forests using Pipelining:\")\n",
    "val accuracy_rf_ParamGrid=metrics_rf_ParamGrid.accuracy\n",
    "println(accuracy_rf_ParamGrid)"
   ]
  },
  {
   "cell_type": "markdown",
   "metadata": {},
   "source": [
    "### 4.2. Gradient Boosting Classifier Model with pipeline"
   ]
  },
  {
   "cell_type": "code",
   "execution_count": 61,
   "metadata": {
    "collapsed": true
   },
   "outputs": [],
   "source": [
    "import org.apache.spark.ml.feature.VectorSlicer\n",
    "import org.apache.spark.ml.Pipeline\n",
    "import org.apache.spark.ml.feature.StandardScaler\n",
    "\n",
    "val slicer = new VectorSlicer().setInputCol(\"features\").setOutputCol(\"slicedfeatures\").setNames(Array(\"BusinessTravelIndexed\",\"Age\",\"DailyRate\",\"DepartmentIndexed\",\"DistanceFromHome\",\"Education\",\"EmployeeCount\",\n",
    "\"EmployeeNumber\",\"EnvironmentSatisfaction\",\"GenderIndexed\",\"HourlyRate\",\"JobLevel\",\"JobRoleIndexed\",\"JobSatisfaction\",\"MaritalStatusIndexed\",\n",
    "\"MonthlyIncome\",\"MonthlyRate\",\"NumCompaniesWorked\",\"Over18Indexed\",\"OverTimeIndexed\",\"PercentSalaryHike\",\"RelationshipSatisfaction\",\n",
    "\"StockOptionLevel\",\"TotalWorkingYears\",\"TrainingTimesLastYear\",\"WorkLifeBalance\",\"YearsAtCompany\",\"YearsInCurrentRole\",\"YearsSinceLastPromotion\",\n",
    "\"YearsWithCurrManager\"))\n"
   ]
  },
  {
   "cell_type": "code",
   "execution_count": 62,
   "metadata": {
    "collapsed": true
   },
   "outputs": [],
   "source": [
    "val scaler = new StandardScaler().setInputCol(\"slicedfeatures\").setOutputCol(\"scaledfeatures\").setWithStd(true).setWithMean(true)\n",
    "\n",
    "val gbt_ParamGrid = new GBTClassifier().setLabelCol(\"label\").setFeaturesCol(\"scaledfeatures\")\n",
    "\n",
    "val gbtPipeline = new Pipeline().setStages(Array(slicer, scaler, gbt_ParamGrid))"
   ]
  },
  {
   "cell_type": "code",
   "execution_count": 63,
   "metadata": {},
   "outputs": [
    {
     "name": "stdout",
     "output_type": "stream",
     "text": [
      "Time elapsed for Gradient Boosting with pipelining:\n",
      "165.073941673\n"
     ]
    }
   ],
   "source": [
    "import org.apache.spark.ml.evaluation.BinaryClassificationEvaluator\n",
    "import org.apache.spark.ml.feature.{HashingTF, Tokenizer}\n",
    "import org.apache.spark.ml.linalg.Vector\n",
    "import org.apache.spark.ml.tuning.{CrossValidator, ParamGridBuilder}\n",
    "import org.apache.spark.sql.Row\n",
    "\n",
    "val paramGrid_gbt = new ParamGridBuilder().build()               \n",
    "\n",
    "val evaluator_gbt = new BinaryClassificationEvaluator().setLabelCol(\"label\").setMetricName(\"areaUnderPR\")\n",
    "\n",
    "val cv_gbt = new CrossValidator().setEstimator(gbtPipeline).setEvaluator(evaluator_gbt).setEstimatorParamMaps(paramGrid_gbt).setNumFolds(10)\n",
    "\n",
    "val startTime_gbt = System.nanoTime()  \n",
    "\n",
    "val crossValidatorModel_gbt = cv_gbt.fit(train)\n",
    "\n",
    "val gbtPipeTime = (System.nanoTime() - startTime_gbt) / 1e9\n",
    "\n",
    "println(\"Time elapsed for Gradient Boosting with pipelining:\")\n",
    "println(gbtPipeTime)\n"
   ]
  },
  {
   "cell_type": "code",
   "execution_count": 64,
   "metadata": {},
   "outputs": [
    {
     "data": {
      "text/plain": [
       "estimator: estimator for selection (current: pipeline_c5a282e758ab)\n",
       "estimatorParamMaps: param maps for the estimator (current: [Lorg.apache.spark.ml.param.ParamMap;@13095f81)\n",
       "evaluator: evaluator used to select hyper-parameters that maximize the validated metric (current: binEval_f3c0ddc8b202)\n",
       "numFolds: number of folds for cross validation (>= 2) (default: 3, current: 10)\n",
       "seed: random seed (default: -1191137437)"
      ]
     },
     "execution_count": 64,
     "metadata": {},
     "output_type": "execute_result"
    }
   ],
   "source": [
    "val predictions_gbt_ParamGrid = crossValidatorModel_gbt.transform(test)\n",
    "crossValidatorModel_gbt.explainParams()"
   ]
  },
  {
   "cell_type": "code",
   "execution_count": 65,
   "metadata": {},
   "outputs": [
    {
     "name": "stdout",
     "output_type": "stream",
     "text": [
      "+-----+------+\n",
      "|label|Errors|\n",
      "+-----+------+\n",
      "|  0.0|    16|\n",
      "|  1.0|    60|\n",
      "+-----+------+\n",
      "\n",
      "+-----+-------+\n",
      "|label|Correct|\n",
      "+-----+-------+\n",
      "|  0.0|    357|\n",
      "|  1.0|     19|\n",
      "+-----+-------+\n",
      "\n"
     ]
    }
   ],
   "source": [
    "val predictionBinary_gbt_ParamGrid = binarizer.transform(predictions_gbt_ParamGrid) \n",
    "\n",
    "val wrongPredictions_gbt_ParamGrid = predictionBinary_gbt_ParamGrid.where(expr(\"label != prediction\"))\n",
    "val countErrors_gbt_ParamGrid = wrongPredictions_gbt_ParamGrid.groupBy(\"label\").agg(count(\"prediction\").alias(\"Errors\"))\n",
    "countErrors_gbt_ParamGrid.show\n",
    "\n",
    "val correctPredictions_gbt_ParamGrid = predictionBinary_gbt_ParamGrid.where(expr(\"label == prediction\"))\n",
    "val countCorrectPredictions_gbt_ParamGrid = correctPredictions_gbt_ParamGrid.groupBy(\"label\").agg(count(\"prediction\").alias(\"Correct\"))\n",
    "countCorrectPredictions_gbt_ParamGrid.show\n"
   ]
  },
  {
   "cell_type": "markdown",
   "metadata": {},
   "source": [
    "### Confusion Matrix and Accuracy (Gradient Boosting Pipeline)"
   ]
  },
  {
   "cell_type": "code",
   "execution_count": 66,
   "metadata": {},
   "outputs": [
    {
     "name": "stdout",
     "output_type": "stream",
     "text": [
      "Confusion matrix for Gradient Boosting with pipelining:\n",
      "357.0  16.0  \n",
      "60.0   19.0  \n",
      "Accuracy of Gradient Boosting with pipelining:\n",
      "0.831858407079646\n"
     ]
    }
   ],
   "source": [
    "val selectMetrics_gbt_ParamGrid = predictions_gbt_ParamGrid.select(\"label\",\"prediction\")\n",
    "val rdd_gbt_ParamGrid = selectMetrics_gbt_ParamGrid.rdd.map(row => {\n",
    "      val label = row.getDouble(0)\n",
    "      val prediction = row.getDouble(1)\n",
    "      (prediction, label)\n",
    "    })\n",
    "val metrics_gbt_ParamGrid = new MulticlassMetrics(rdd_gbt_ParamGrid)\n",
    "println(\"Confusion matrix for Gradient Boosting with pipelining:\")\n",
    "val confusionMatrix_gbt_ParamGrid=metrics_gbt_ParamGrid.confusionMatrix\n",
    "println(confusionMatrix_gbt_ParamGrid)\n",
    "println(\"Accuracy of Gradient Boosting with pipelining:\")\n",
    "val accuracy_gbt_ParamGrid=metrics_gbt_ParamGrid.accuracy\n",
    "println(accuracy_gbt_ParamGrid)"
   ]
  },
  {
   "cell_type": "markdown",
   "metadata": {},
   "source": [
    "## 5. Evaluation of Models"
   ]
  },
  {
   "cell_type": "markdown",
   "metadata": {},
   "source": [
    "### 5.1. Comparison of Models by Classification Accuracy"
   ]
  },
  {
   "cell_type": "code",
   "execution_count": 67,
   "metadata": {},
   "outputs": [
    {
     "name": "stdout",
     "output_type": "stream",
     "text": [
      "(NaiveBayes,0.4756637168141593)\n",
      "(GradientBoost,0.831858407079646)\n",
      "(LogisticRegression,0.8584070796460177)\n",
      "(DecisionTree,0.028761061946902654)\n",
      "(RandomForest,0.8230088495575221)\n",
      "(LinearSupportVector,0.8584070796460177)\n"
     ]
    }
   ],
   "source": [
    "import scala.collection.immutable.ListMap\n",
    "var allModelsAccuracies = scala.collection.mutable.Map[String, Double]()\n",
    "allModelsAccuracies+=(\"DecisionTree\"->accuracy_dt)\n",
    "allModelsAccuracies+=(\"NaiveBayes\"->accuracy_nb)\n",
    "allModelsAccuracies+=(\"GradientBoost\"->accuracy_gbt_ParamGrid)\n",
    "allModelsAccuracies+=(\"LogisticRegression\"->accuracy_lr)\n",
    "allModelsAccuracies+=(\"LinearSupportVector\"->accuracy_svm)\n",
    "allModelsAccuracies+=(\"RandomForest\"->accuracy_rf_ParamGrid)\n",
    "\n",
    "for (item<-allModelsAccuracies)\n",
    "    {\n",
    "        println(item)\n",
    "    }"
   ]
  },
  {
   "cell_type": "markdown",
   "metadata": {},
   "source": [
    "<img src = \"./Accuracy.png\">"
   ]
  },
  {
   "cell_type": "markdown",
   "metadata": {},
   "source": [
    "__Analysis: Above graph shows the performance of all classifiers used, based on their accuracies. Logistic Regression and Linear Support Vector models are most accurate in predicting which employee is likely to leave the company while Decision Tree model turns out to be least accurate. <br><br>\n",
    "One of the Python codes on Kaggle (https://www.kaggle.com/arthurtok/employee-attrition-via-rf-gbm), which used the same dataset, used the models Gradient Boosting Classifier and Random Forests. The performance of these two models in our case is on similar scales as theirs.__<br><br>\n",
    "_Note: The scores in the graphs are representative of one of our code runs._"
   ]
  },
  {
   "cell_type": "markdown",
   "metadata": {},
   "source": [
    "### 5.2. Comparison of Models by Execution Time "
   ]
  },
  {
   "cell_type": "code",
   "execution_count": 68,
   "metadata": {},
   "outputs": [
    {
     "name": "stdout",
     "output_type": "stream",
     "text": [
      "(NaiveBayes,9.846159471)\n",
      "(GradientBoost,12.39173124)\n",
      "(LogisticRegression,7.408481278)\n",
      "(DecisionTree,5.350314768)\n",
      "(RandomForest,7.7940577)\n",
      "(LinearSupportVector,5.852784366)\n"
     ]
    }
   ],
   "source": [
    "import scala.collection.immutable.ListMap\n",
    "var allModelsTimes = scala.collection.mutable.Map[String, Double]()\n",
    "allModelsTimes+=(\"DecisionTree\"->time_dt)\n",
    "allModelsTimes+=(\"NaiveBayes\"->time_nb)\n",
    "allModelsTimes+=(\"GradientBoost\"->time_gbt)\n",
    "allModelsTimes+=(\"LogisticRegression\"->time_lr)\n",
    "allModelsTimes+=(\"LinearSupportVector\"->time_svm)\n",
    "allModelsTimes+=(\"RandomForest\"->time_rf)\n",
    "\n",
    "for (item<-allModelsTimes)\n",
    "    {\n",
    "        println(item)\n",
    "    }"
   ]
  },
  {
   "cell_type": "markdown",
   "metadata": {},
   "source": [
    "<img src = \"./Time.png\">"
   ]
  },
  {
   "cell_type": "markdown",
   "metadata": {},
   "source": [
    "__Analysis: The graph compares the execution (training + testing) times of each of the models. Random Forest model is the quickest to make predictions while Gradient Boosting Classifier takes the maximum time. Logistic Regression and Linear Support Vector models which had the highest accuracies, take medium to high execution times.__<br><br>\n",
    "_Note: The times in the graphs are representative of one of our code runs._"
   ]
  },
  {
   "cell_type": "markdown",
   "metadata": {},
   "source": [
    "__Result: Based on the above comparisons we can say that the trade-off between accuracy score and execution time for Random Forest model is the best. Hence, we can say that Random Forest is the most suitable model fore predicting whether an employee is likely to leave the company or not.__"
   ]
  }
 ],
 "metadata": {
  "kernelspec": {
   "display_name": "Apache Toree - Scala",
   "language": "scala",
   "name": "apache_toree_scala"
  },
  "language_info": {
   "file_extension": ".scala",
   "name": "scala",
   "version": "2.11.8"
  }
 },
 "nbformat": 4,
 "nbformat_minor": 2
}
